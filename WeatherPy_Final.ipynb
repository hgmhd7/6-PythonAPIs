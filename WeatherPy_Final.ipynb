{
 "cells": [
  {
   "cell_type": "code",
   "execution_count": 31,
   "metadata": {
    "scrolled": true
   },
   "outputs": [],
   "source": [
    "# Dependencies and Setup\n",
    "# Not sure if I really neeed the time module since I'm just using datetime \n",
    "# to print the date on my charts...\n",
    "import matplotlib.pyplot as plt\n",
    "import pandas as pd\n",
    "import numpy as np\n",
    "import requests\n",
    "import datetime \n",
    "import time\n",
    "import json\n",
    "\n",
    "# Import to use later for bold formatting\n",
    "from IPython.display import Markdown, display\n",
    "\n",
    "# Import API key\n",
    "from api_keys import api_key\n",
    "\n",
    "# Incorporated citipy to determine city based on latitude and longitude\n",
    "from citipy import citipy\n",
    "\n",
    "# Format date for latter use\n",
    "date_capture = datetime.datetime.now()\n",
    "current_date = date_capture.strftime(\"%m/%d/%Y\")\n",
    "\n",
    "# Declare output File (CSV), for later use\n",
    "output_data_file = \"output_data/cities.csv\"\n",
    "\n",
    "# Range of latitudes and longitudes\n",
    "lat_range = (-90, 90)\n",
    "lng_range = (-180, 180)"
   ]
  },
  {
   "cell_type": "code",
   "execution_count": 32,
   "metadata": {},
   "outputs": [
    {
     "name": "stdout",
     "output_type": "stream",
     "text": [
      "608\n"
     ]
    }
   ],
   "source": [
    "# List for holding lat_lngs and cities\n",
    "lat_lngs = []\n",
    "cities = []\n",
    "\n",
    "\n",
    "# Create a set of random lat and lng combinations\n",
    "lats = np.random.uniform(low=-90.000, high=90.000, size=1500)\n",
    "lngs = np.random.uniform(low=-180.000, high=180.000, size=1500)\n",
    "lat_lngs = zip(lats, lngs)\n",
    "\n",
    "# Identify nearest city for each lat, lng combination\n",
    "for lat_lng in lat_lngs:\n",
    "    city = citipy.nearest_city(lat_lng[0], lat_lng[1]).city_name\n",
    "    \n",
    "    # If the city is unique, then add it to a our cities list\n",
    "    if city not in cities:\n",
    "        cities.append(city)\n",
    "        \n",
    "# Print the city count to confirm sufficient count\n",
    "print(len(cities))"
   ]
  },
  {
   "cell_type": "code",
   "execution_count": 33,
   "metadata": {},
   "outputs": [
    {
     "name": "stdout",
     "output_type": "stream",
     "text": [
      "Beginning Data Retrieval\n",
      "\n",
      "-----------------------------\n",
      "\n",
      "Processing Record 1 of Set 1 | Butaritari\n",
      "Processing Record 2 of Set 1 | Lagoa Formosa\n",
      "Processing Record 3 of Set 1 | Westport\n"
     ]
    },
    {
     "data": {
      "text/markdown": [
       "**City not found.  Skipping...**"
      ],
      "text/plain": [
       "<IPython.core.display.Markdown object>"
      ]
     },
     "metadata": {},
     "output_type": "display_data"
    },
    {
     "name": "stdout",
     "output_type": "stream",
     "text": [
      "Processing Record 4 of Set 1 | Mataura\n"
     ]
    },
    {
     "data": {
      "text/markdown": [
       "**City not found.  Skipping...**"
      ],
      "text/plain": [
       "<IPython.core.display.Markdown object>"
      ]
     },
     "metadata": {},
     "output_type": "display_data"
    },
    {
     "name": "stdout",
     "output_type": "stream",
     "text": [
      "Processing Record 5 of Set 1 | Albany\n",
      "Processing Record 6 of Set 1 | Komsomolskiy\n"
     ]
    },
    {
     "data": {
      "text/markdown": [
       "**City not found.  Skipping...**"
      ],
      "text/plain": [
       "<IPython.core.display.Markdown object>"
      ]
     },
     "metadata": {},
     "output_type": "display_data"
    },
    {
     "name": "stdout",
     "output_type": "stream",
     "text": [
      "Processing Record 7 of Set 1 | Hualmay\n",
      "Processing Record 8 of Set 1 | Bluff\n",
      "Processing Record 9 of Set 1 | Bethel\n"
     ]
    },
    {
     "data": {
      "text/markdown": [
       "**City not found.  Skipping...**"
      ],
      "text/plain": [
       "<IPython.core.display.Markdown object>"
      ]
     },
     "metadata": {},
     "output_type": "display_data"
    },
    {
     "name": "stdout",
     "output_type": "stream",
     "text": [
      "Processing Record 10 of Set 1 | Klaksvik\n",
      "Processing Record 11 of Set 1 | Tuatapere\n",
      "Processing Record 12 of Set 1 | Saldanha\n",
      "Processing Record 13 of Set 1 | Touros\n",
      "Processing Record 14 of Set 1 | Bambous Virieux\n",
      "Processing Record 15 of Set 1 | Ahipara\n",
      "Processing Record 16 of Set 1 | Alyangula\n",
      "Processing Record 17 of Set 1 | Morant Bay\n",
      "Processing Record 18 of Set 1 | Atuona\n",
      "Processing Record 19 of Set 1 | Atbasar\n",
      "Processing Record 20 of Set 1 | Kendari\n",
      "Processing Record 21 of Set 1 | Longyearbyen\n",
      "Processing Record 22 of Set 1 | Kiama\n",
      "Processing Record 23 of Set 1 | Sao Joao da Barra\n",
      "Processing Record 24 of Set 1 | Tommot\n",
      "Processing Record 25 of Set 1 | Solnechnyy\n",
      "Processing Record 26 of Set 1 | Iqaluit\n",
      "Processing Record 27 of Set 1 | Faanui\n",
      "Processing Record 28 of Set 1 | Tiksi\n",
      "Processing Record 29 of Set 1 | Dunkirk\n",
      "Processing Record 30 of Set 1 | Antofagasta\n",
      "Processing Record 31 of Set 1 | Hofn\n",
      "Processing Record 32 of Set 1 | Yellowknife\n"
     ]
    },
    {
     "data": {
      "text/markdown": [
       "**City not found.  Skipping...**"
      ],
      "text/plain": [
       "<IPython.core.display.Markdown object>"
      ]
     },
     "metadata": {},
     "output_type": "display_data"
    },
    {
     "name": "stdout",
     "output_type": "stream",
     "text": [
      "Processing Record 33 of Set 1 | Porbandar\n",
      "Processing Record 34 of Set 1 | Kodiak\n"
     ]
    },
    {
     "data": {
      "text/markdown": [
       "**City not found.  Skipping...**"
      ],
      "text/plain": [
       "<IPython.core.display.Markdown object>"
      ]
     },
     "metadata": {},
     "output_type": "display_data"
    },
    {
     "name": "stdout",
     "output_type": "stream",
     "text": [
      "Processing Record 35 of Set 1 | Rikitea\n",
      "Processing Record 36 of Set 1 | Souillac\n",
      "Processing Record 37 of Set 1 | Arraial do Cabo\n",
      "Processing Record 38 of Set 1 | Wukari\n",
      "Processing Record 39 of Set 1 | Tasiilaq\n",
      "Processing Record 40 of Set 1 | Lagoa\n",
      "Processing Record 41 of Set 1 | Qianguo\n",
      "Processing Record 42 of Set 1 | Agalatovo\n"
     ]
    },
    {
     "data": {
      "text/markdown": [
       "**City not found.  Skipping...**"
      ],
      "text/plain": [
       "<IPython.core.display.Markdown object>"
      ]
     },
     "metadata": {},
     "output_type": "display_data"
    },
    {
     "name": "stdout",
     "output_type": "stream",
     "text": [
      "Processing Record 43 of Set 1 | Tura\n",
      "Processing Record 44 of Set 1 | Busselton\n",
      "Processing Record 45 of Set 1 | New Norfolk\n",
      "Processing Record 46 of Set 1 | Qaanaaq\n",
      "Processing Record 47 of Set 1 | Atar\n",
      "Processing Record 48 of Set 1 | Provideniya\n"
     ]
    },
    {
     "data": {
      "text/markdown": [
       "**City not found.  Skipping...**"
      ],
      "text/plain": [
       "<IPython.core.display.Markdown object>"
      ]
     },
     "metadata": {},
     "output_type": "display_data"
    },
    {
     "name": "stdout",
     "output_type": "stream",
     "text": [
      "Processing Record 49 of Set 1 | Nador\n"
     ]
    },
    {
     "data": {
      "text/markdown": [
       "**City not found.  Skipping...**"
      ],
      "text/plain": [
       "<IPython.core.display.Markdown object>"
      ]
     },
     "metadata": {},
     "output_type": "display_data"
    },
    {
     "name": "stdout",
     "output_type": "stream",
     "text": [
      "Processing Record 50 of Set 1 | Nome\n",
      "Processing Record 1 of Set 2 | Ushuaia\n",
      "Processing Record 2 of Set 2 | Kant\n",
      "Processing Record 3 of Set 2 | Hambantota\n",
      "Processing Record 4 of Set 2 | Hilo\n",
      "Processing Record 5 of Set 2 | Sambava\n",
      "Processing Record 6 of Set 2 | Nikolskoye\n",
      "Processing Record 7 of Set 2 | Coffs Harbour\n"
     ]
    },
    {
     "data": {
      "text/markdown": [
       "**City not found.  Skipping...**"
      ],
      "text/plain": [
       "<IPython.core.display.Markdown object>"
      ]
     },
     "metadata": {},
     "output_type": "display_data"
    },
    {
     "name": "stdout",
     "output_type": "stream",
     "text": [
      "Processing Record 8 of Set 2 | Thompson\n",
      "Processing Record 9 of Set 2 | Saint-Philippe\n",
      "Processing Record 10 of Set 2 | Qasigiannguit\n"
     ]
    },
    {
     "data": {
      "text/markdown": [
       "**City not found.  Skipping...**"
      ],
      "text/plain": [
       "<IPython.core.display.Markdown object>"
      ]
     },
     "metadata": {},
     "output_type": "display_data"
    },
    {
     "name": "stdout",
     "output_type": "stream",
     "text": [
      "Processing Record 11 of Set 2 | Cherskiy\n",
      "Processing Record 12 of Set 2 | Castro\n",
      "Processing Record 13 of Set 2 | Jamestown\n",
      "Processing Record 14 of Set 2 | Upernavik\n",
      "Processing Record 15 of Set 2 | Katsuura\n",
      "Processing Record 16 of Set 2 | Biak\n",
      "Processing Record 17 of Set 2 | Berlevag\n",
      "Processing Record 18 of Set 2 | Ryotsu\n",
      "Processing Record 19 of Set 2 | Khatanga\n",
      "Processing Record 20 of Set 2 | Te Anau\n",
      "Processing Record 21 of Set 2 | Torbay\n",
      "Processing Record 22 of Set 2 | Mankono\n",
      "Processing Record 23 of Set 2 | Vestmanna\n",
      "Processing Record 24 of Set 2 | Mogadishu\n",
      "Processing Record 25 of Set 2 | Cape Town\n",
      "Processing Record 26 of Set 2 | Itacoatiara\n"
     ]
    },
    {
     "data": {
      "text/markdown": [
       "**City not found.  Skipping...**"
      ],
      "text/plain": [
       "<IPython.core.display.Markdown object>"
      ]
     },
     "metadata": {},
     "output_type": "display_data"
    },
    {
     "name": "stdout",
     "output_type": "stream",
     "text": [
      "Processing Record 27 of Set 2 | Brodnica\n",
      "Processing Record 28 of Set 2 | East London\n",
      "Processing Record 29 of Set 2 | Vaini\n",
      "Processing Record 30 of Set 2 | Kapaa\n",
      "Processing Record 31 of Set 2 | Maceio\n",
      "Processing Record 32 of Set 2 | Koumac\n",
      "Processing Record 33 of Set 2 | Talcahuano\n",
      "Processing Record 34 of Set 2 | Leningradskiy\n",
      "Processing Record 35 of Set 2 | Aleppo\n",
      "Processing Record 36 of Set 2 | Christchurch\n",
      "Processing Record 37 of Set 2 | Tuktoyaktuk\n",
      "Processing Record 38 of Set 2 | Port Macquarie\n",
      "Processing Record 39 of Set 2 | Bredasdorp\n",
      "Processing Record 40 of Set 2 | Kavieng\n",
      "Processing Record 41 of Set 2 | Soledade\n"
     ]
    },
    {
     "data": {
      "text/markdown": [
       "**City not found.  Skipping...**"
      ],
      "text/plain": [
       "<IPython.core.display.Markdown object>"
      ]
     },
     "metadata": {},
     "output_type": "display_data"
    },
    {
     "name": "stdout",
     "output_type": "stream",
     "text": [
      "Processing Record 42 of Set 2 | Punta Arenas\n",
      "Processing Record 43 of Set 2 | Rawson\n",
      "Processing Record 44 of Set 2 | Hay River\n",
      "Processing Record 45 of Set 2 | Bilma\n",
      "Processing Record 46 of Set 2 | Cap Malheureux\n",
      "Processing Record 47 of Set 2 | Hobart\n",
      "Processing Record 48 of Set 2 | Itarema\n",
      "Processing Record 49 of Set 2 | Sibu\n",
      "Processing Record 50 of Set 2 | Mazatlan\n",
      "Processing Record 1 of Set 3 | Champerico\n",
      "Processing Record 2 of Set 3 | Ulaanbaatar\n",
      "Processing Record 3 of Set 3 | Saint George\n",
      "Processing Record 4 of Set 3 | Omboue\n",
      "Processing Record 5 of Set 3 | Ancud\n"
     ]
    },
    {
     "data": {
      "text/markdown": [
       "**City not found.  Skipping...**"
      ],
      "text/plain": [
       "<IPython.core.display.Markdown object>"
      ]
     },
     "metadata": {},
     "output_type": "display_data"
    },
    {
     "name": "stdout",
     "output_type": "stream",
     "text": [
      "Processing Record 6 of Set 3 | Norman Wells\n",
      "Processing Record 7 of Set 3 | Chokurdakh\n",
      "Processing Record 8 of Set 3 | Esperance\n",
      "Processing Record 9 of Set 3 | Fort-Shevchenko\n",
      "Processing Record 10 of Set 3 | Cabedelo\n",
      "Processing Record 11 of Set 3 | Namibe\n",
      "Processing Record 12 of Set 3 | Mackay\n",
      "Processing Record 13 of Set 3 | Piacabucu\n",
      "Processing Record 14 of Set 3 | Ilulissat\n",
      "Processing Record 15 of Set 3 | Impfondo\n",
      "Processing Record 16 of Set 3 | Liwonde\n",
      "Processing Record 17 of Set 3 | Ottawa\n",
      "Processing Record 18 of Set 3 | Sur\n",
      "Processing Record 19 of Set 3 | Puerto Leguizamo\n",
      "Processing Record 20 of Set 3 | Mahajanga\n",
      "Processing Record 21 of Set 3 | Santiago del Estero\n",
      "Processing Record 22 of Set 3 | Faya\n",
      "Processing Record 23 of Set 3 | Hermanus\n",
      "Processing Record 24 of Set 3 | Santa Isabel do Rio Negro\n",
      "Processing Record 25 of Set 3 | Puerto Ayora\n",
      "Processing Record 26 of Set 3 | Ginir\n",
      "Processing Record 27 of Set 3 | Lompoc\n"
     ]
    },
    {
     "data": {
      "text/markdown": [
       "**City not found.  Skipping...**"
      ],
      "text/plain": [
       "<IPython.core.display.Markdown object>"
      ]
     },
     "metadata": {},
     "output_type": "display_data"
    },
    {
     "name": "stdout",
     "output_type": "stream",
     "text": [
      "Processing Record 28 of Set 3 | Yunyang\n",
      "Processing Record 29 of Set 3 | Dyersburg\n",
      "Processing Record 30 of Set 3 | Orlik\n",
      "Processing Record 31 of Set 3 | San Felipe\n",
      "Processing Record 32 of Set 3 | Luanda\n",
      "Processing Record 33 of Set 3 | Albion\n",
      "Processing Record 34 of Set 3 | Kavaratti\n",
      "Processing Record 35 of Set 3 | Framlev\n",
      "Processing Record 36 of Set 3 | Nicoya\n"
     ]
    },
    {
     "data": {
      "text/markdown": [
       "**City not found.  Skipping...**"
      ],
      "text/plain": [
       "<IPython.core.display.Markdown object>"
      ]
     },
     "metadata": {},
     "output_type": "display_data"
    },
    {
     "data": {
      "text/markdown": [
       "**City not found.  Skipping...**"
      ],
      "text/plain": [
       "<IPython.core.display.Markdown object>"
      ]
     },
     "metadata": {},
     "output_type": "display_data"
    },
    {
     "name": "stdout",
     "output_type": "stream",
     "text": [
      "Processing Record 37 of Set 3 | Cabo San Lucas\n",
      "Processing Record 38 of Set 3 | Lokoshaza\n",
      "Processing Record 39 of Set 3 | Baracoa\n",
      "Processing Record 40 of Set 3 | Port Alfred\n"
     ]
    },
    {
     "data": {
      "text/markdown": [
       "**City not found.  Skipping...**"
      ],
      "text/plain": [
       "<IPython.core.display.Markdown object>"
      ]
     },
     "metadata": {},
     "output_type": "display_data"
    },
    {
     "name": "stdout",
     "output_type": "stream",
     "text": [
      "Processing Record 41 of Set 3 | Banes\n"
     ]
    },
    {
     "data": {
      "text/markdown": [
       "**City not found.  Skipping...**"
      ],
      "text/plain": [
       "<IPython.core.display.Markdown object>"
      ]
     },
     "metadata": {},
     "output_type": "display_data"
    },
    {
     "name": "stdout",
     "output_type": "stream",
     "text": [
      "Processing Record 42 of Set 3 | Mahebourg\n"
     ]
    },
    {
     "data": {
      "text/markdown": [
       "**City not found.  Skipping...**"
      ],
      "text/plain": [
       "<IPython.core.display.Markdown object>"
      ]
     },
     "metadata": {},
     "output_type": "display_data"
    },
    {
     "data": {
      "text/markdown": [
       "**City not found.  Skipping...**"
      ],
      "text/plain": [
       "<IPython.core.display.Markdown object>"
      ]
     },
     "metadata": {},
     "output_type": "display_data"
    },
    {
     "name": "stdout",
     "output_type": "stream",
     "text": [
      "Processing Record 43 of Set 3 | Ribeira Grande\n",
      "Processing Record 44 of Set 3 | Atambua\n",
      "Processing Record 45 of Set 3 | Dubbo\n",
      "Processing Record 46 of Set 3 | Aseri\n",
      "Processing Record 47 of Set 3 | Victoria\n",
      "Processing Record 48 of Set 3 | Vila Velha\n"
     ]
    },
    {
     "data": {
      "text/markdown": [
       "**City not found.  Skipping...**"
      ],
      "text/plain": [
       "<IPython.core.display.Markdown object>"
      ]
     },
     "metadata": {},
     "output_type": "display_data"
    },
    {
     "name": "stdout",
     "output_type": "stream",
     "text": [
      "Processing Record 49 of Set 3 | Kalevala\n",
      "Processing Record 50 of Set 3 | Mindelo\n",
      "Processing Record 1 of Set 4 | Flinders\n",
      "Processing Record 2 of Set 4 | Pevek\n",
      "Processing Record 3 of Set 4 | Sobolevo\n",
      "Processing Record 4 of Set 4 | Kuvandyk\n",
      "Processing Record 5 of Set 4 | Georgetown\n",
      "Processing Record 6 of Set 4 | Cayenne\n"
     ]
    },
    {
     "data": {
      "text/markdown": [
       "**City not found.  Skipping...**"
      ],
      "text/plain": [
       "<IPython.core.display.Markdown object>"
      ]
     },
     "metadata": {},
     "output_type": "display_data"
    },
    {
     "data": {
      "text/markdown": [
       "**City not found.  Skipping...**"
      ],
      "text/plain": [
       "<IPython.core.display.Markdown object>"
      ]
     },
     "metadata": {},
     "output_type": "display_data"
    },
    {
     "data": {
      "text/markdown": [
       "**City not found.  Skipping...**"
      ],
      "text/plain": [
       "<IPython.core.display.Markdown object>"
      ]
     },
     "metadata": {},
     "output_type": "display_data"
    },
    {
     "name": "stdout",
     "output_type": "stream",
     "text": [
      "Processing Record 7 of Set 4 | Vrises\n"
     ]
    },
    {
     "data": {
      "text/markdown": [
       "**City not found.  Skipping...**"
      ],
      "text/plain": [
       "<IPython.core.display.Markdown object>"
      ]
     },
     "metadata": {},
     "output_type": "display_data"
    },
    {
     "name": "stdout",
     "output_type": "stream",
     "text": [
      "Processing Record 8 of Set 4 | Salym\n",
      "Processing Record 9 of Set 4 | Presidente Epitacio\n",
      "Processing Record 10 of Set 4 | Saskylakh\n",
      "Processing Record 11 of Set 4 | Sotuta\n",
      "Processing Record 12 of Set 4 | Mar del Plata\n",
      "Processing Record 13 of Set 4 | Kahului\n",
      "Processing Record 14 of Set 4 | Beringovskiy\n",
      "Processing Record 15 of Set 4 | Lebu\n",
      "Processing Record 16 of Set 4 | Ponta do Sol\n",
      "Processing Record 17 of Set 4 | Gat\n"
     ]
    },
    {
     "data": {
      "text/markdown": [
       "**City not found.  Skipping...**"
      ],
      "text/plain": [
       "<IPython.core.display.Markdown object>"
      ]
     },
     "metadata": {},
     "output_type": "display_data"
    },
    {
     "data": {
      "text/markdown": [
       "**City not found.  Skipping...**"
      ],
      "text/plain": [
       "<IPython.core.display.Markdown object>"
      ]
     },
     "metadata": {},
     "output_type": "display_data"
    },
    {
     "name": "stdout",
     "output_type": "stream",
     "text": [
      "Processing Record 18 of Set 4 | Rio Rancho\n",
      "Processing Record 19 of Set 4 | Grand-Santi\n",
      "Processing Record 20 of Set 4 | Bara\n",
      "Processing Record 21 of Set 4 | Beloha\n",
      "Processing Record 22 of Set 4 | Panama City\n",
      "Processing Record 23 of Set 4 | Carnarvon\n",
      "Processing Record 24 of Set 4 | Kununurra\n",
      "Processing Record 25 of Set 4 | Barstow\n",
      "Processing Record 26 of Set 4 | Dikson\n",
      "Processing Record 27 of Set 4 | Kikwit\n",
      "Processing Record 28 of Set 4 | San Policarpo\n",
      "Processing Record 29 of Set 4 | Yeppoon\n",
      "Processing Record 30 of Set 4 | Hit\n",
      "Processing Record 31 of Set 4 | Geraldton\n",
      "Processing Record 32 of Set 4 | Zhangye\n",
      "Processing Record 33 of Set 4 | Bathsheba\n",
      "Processing Record 34 of Set 4 | Myrtle Beach\n",
      "Processing Record 35 of Set 4 | Airai\n"
     ]
    },
    {
     "data": {
      "text/markdown": [
       "**City not found.  Skipping...**"
      ],
      "text/plain": [
       "<IPython.core.display.Markdown object>"
      ]
     },
     "metadata": {},
     "output_type": "display_data"
    },
    {
     "name": "stdout",
     "output_type": "stream",
     "text": [
      "Processing Record 36 of Set 4 | Saint-Joseph\n",
      "Processing Record 37 of Set 4 | Narsaq\n",
      "Processing Record 38 of Set 4 | Marawi\n"
     ]
    },
    {
     "data": {
      "text/markdown": [
       "**City not found.  Skipping...**"
      ],
      "text/plain": [
       "<IPython.core.display.Markdown object>"
      ]
     },
     "metadata": {},
     "output_type": "display_data"
    },
    {
     "name": "stdout",
     "output_type": "stream",
     "text": [
      "Processing Record 39 of Set 4 | Mareeba\n",
      "Processing Record 40 of Set 4 | Lyambir\n",
      "Processing Record 41 of Set 4 | Mragowo\n",
      "Processing Record 42 of Set 4 | Barcelona\n",
      "Processing Record 43 of Set 4 | San Jose\n",
      "Processing Record 44 of Set 4 | Comodoro Rivadavia\n",
      "Processing Record 45 of Set 4 | Gainesville\n",
      "Processing Record 46 of Set 4 | Portland\n",
      "Processing Record 47 of Set 4 | Sao Filipe\n",
      "Processing Record 48 of Set 4 | Lorengau\n",
      "Processing Record 49 of Set 4 | Rio Gallegos\n",
      "Processing Record 50 of Set 4 | Khandyga\n",
      "Processing Record 1 of Set 5 | Barrow\n",
      "Processing Record 2 of Set 5 | Guerrero Negro\n",
      "Processing Record 3 of Set 5 | College\n",
      "Processing Record 4 of Set 5 | Krasnyy Chikoy\n",
      "Processing Record 5 of Set 5 | Zeya\n",
      "Processing Record 6 of Set 5 | San Jose Ojetenan\n",
      "Processing Record 7 of Set 5 | Qeshm\n",
      "Processing Record 8 of Set 5 | Hithadhoo\n",
      "Processing Record 9 of Set 5 | Zhaoyuan\n",
      "Processing Record 10 of Set 5 | Sumbe\n",
      "Processing Record 11 of Set 5 | Rolla\n",
      "Processing Record 12 of Set 5 | Khiri Mat\n",
      "Processing Record 13 of Set 5 | Husavik\n",
      "Processing Record 14 of Set 5 | Pierre\n",
      "Processing Record 15 of Set 5 | Loudeac\n",
      "Processing Record 16 of Set 5 | Palmer\n",
      "Processing Record 17 of Set 5 | Ushtobe\n",
      "Processing Record 18 of Set 5 | Severo-Kurilsk\n",
      "Processing Record 19 of Set 5 | Ambilobe\n",
      "Processing Record 20 of Set 5 | Codrington\n",
      "Processing Record 21 of Set 5 | Maumere\n",
      "Processing Record 22 of Set 5 | Avarua\n",
      "Processing Record 23 of Set 5 | Machinga\n",
      "Processing Record 24 of Set 5 | Oktyabrskiy\n",
      "Processing Record 25 of Set 5 | Shenjiamen\n",
      "Processing Record 26 of Set 5 | Sorland\n",
      "Processing Record 27 of Set 5 | Harper\n"
     ]
    },
    {
     "data": {
      "text/markdown": [
       "**City not found.  Skipping...**"
      ],
      "text/plain": [
       "<IPython.core.display.Markdown object>"
      ]
     },
     "metadata": {},
     "output_type": "display_data"
    },
    {
     "name": "stdout",
     "output_type": "stream",
     "text": [
      "Processing Record 28 of Set 5 | Baruun-Urt\n",
      "Processing Record 29 of Set 5 | Coihaique\n",
      "Processing Record 30 of Set 5 | Tilichiki\n",
      "Processing Record 31 of Set 5 | Evensk\n",
      "Processing Record 32 of Set 5 | Grindavik\n",
      "Processing Record 33 of Set 5 | Nantucket\n",
      "Processing Record 34 of Set 5 | Adeje\n",
      "Processing Record 35 of Set 5 | Fortuna\n",
      "Processing Record 36 of Set 5 | Manaus\n",
      "Processing Record 37 of Set 5 | San Miguel\n"
     ]
    },
    {
     "data": {
      "text/markdown": [
       "**City not found.  Skipping...**"
      ],
      "text/plain": [
       "<IPython.core.display.Markdown object>"
      ]
     },
     "metadata": {},
     "output_type": "display_data"
    },
    {
     "name": "stdout",
     "output_type": "stream",
     "text": [
      "Processing Record 38 of Set 5 | Port Moresby\n",
      "Processing Record 39 of Set 5 | Sale\n",
      "Processing Record 40 of Set 5 | Yongzhou\n",
      "Processing Record 41 of Set 5 | Requena\n",
      "Processing Record 42 of Set 5 | Huarmey\n",
      "Processing Record 43 of Set 5 | Ixtapa\n",
      "Processing Record 44 of Set 5 | Vilhena\n",
      "Processing Record 45 of Set 5 | The Pas\n",
      "Processing Record 46 of Set 5 | Glenwood Springs\n",
      "Processing Record 47 of Set 5 | Ozernovskiy\n"
     ]
    },
    {
     "data": {
      "text/markdown": [
       "**City not found.  Skipping...**"
      ],
      "text/plain": [
       "<IPython.core.display.Markdown object>"
      ]
     },
     "metadata": {},
     "output_type": "display_data"
    },
    {
     "name": "stdout",
     "output_type": "stream",
     "text": [
      "Processing Record 48 of Set 5 | Cidreira\n",
      "Processing Record 49 of Set 5 | Methoni\n",
      "Processing Record 50 of Set 5 | Borba\n"
     ]
    },
    {
     "data": {
      "text/markdown": [
       "**City not found.  Skipping...**"
      ],
      "text/plain": [
       "<IPython.core.display.Markdown object>"
      ]
     },
     "metadata": {},
     "output_type": "display_data"
    },
    {
     "name": "stdout",
     "output_type": "stream",
     "text": [
      "Processing Record 1 of Set 6 | Workington\n",
      "Processing Record 2 of Set 6 | Vostok\n",
      "Processing Record 3 of Set 6 | Anori\n",
      "Processing Record 4 of Set 6 | Santa Maria da Vitoria\n",
      "Processing Record 5 of Set 6 | Aswan\n",
      "Processing Record 6 of Set 6 | Prince Rupert\n"
     ]
    },
    {
     "data": {
      "text/markdown": [
       "**City not found.  Skipping...**"
      ],
      "text/plain": [
       "<IPython.core.display.Markdown object>"
      ]
     },
     "metadata": {},
     "output_type": "display_data"
    },
    {
     "name": "stdout",
     "output_type": "stream",
     "text": [
      "Processing Record 7 of Set 6 | Kieta\n",
      "Processing Record 8 of Set 6 | Yamada\n",
      "Processing Record 9 of Set 6 | Abu Samrah\n",
      "Processing Record 10 of Set 6 | Lasa\n",
      "Processing Record 11 of Set 6 | Itaituba\n",
      "Processing Record 12 of Set 6 | Deogarh\n",
      "Processing Record 13 of Set 6 | Yulara\n",
      "Processing Record 14 of Set 6 | Sharan\n",
      "Processing Record 15 of Set 6 | Yaan\n",
      "Processing Record 16 of Set 6 | Klyuchi\n",
      "Processing Record 17 of Set 6 | Miraflores\n",
      "Processing Record 18 of Set 6 | Tyukalinsk\n",
      "Processing Record 19 of Set 6 | Half Moon Bay\n"
     ]
    },
    {
     "data": {
      "text/markdown": [
       "**City not found.  Skipping...**"
      ],
      "text/plain": [
       "<IPython.core.display.Markdown object>"
      ]
     },
     "metadata": {},
     "output_type": "display_data"
    },
    {
     "name": "stdout",
     "output_type": "stream",
     "text": [
      "Processing Record 20 of Set 6 | Luderitz\n",
      "Processing Record 21 of Set 6 | Lusaka\n",
      "Processing Record 22 of Set 6 | Port Blair\n",
      "Processing Record 23 of Set 6 | Panacan\n"
     ]
    },
    {
     "data": {
      "text/markdown": [
       "**City not found.  Skipping...**"
      ],
      "text/plain": [
       "<IPython.core.display.Markdown object>"
      ]
     },
     "metadata": {},
     "output_type": "display_data"
    },
    {
     "name": "stdout",
     "output_type": "stream",
     "text": [
      "Processing Record 24 of Set 6 | Cine\n",
      "Processing Record 25 of Set 6 | Lavrentiya\n",
      "Processing Record 26 of Set 6 | Santa Cruz de la Palma\n",
      "Processing Record 27 of Set 6 | Hami\n",
      "Processing Record 28 of Set 6 | Kaitangata\n",
      "Processing Record 29 of Set 6 | Port Elizabeth\n",
      "Processing Record 30 of Set 6 | Bonavista\n",
      "Processing Record 31 of Set 6 | Hamilton\n",
      "Processing Record 32 of Set 6 | Kichera\n",
      "Processing Record 33 of Set 6 | Noumea\n",
      "Processing Record 34 of Set 6 | Houma\n",
      "Processing Record 35 of Set 6 | Salalah\n",
      "Processing Record 36 of Set 6 | Najran\n",
      "Processing Record 37 of Set 6 | Esso\n",
      "Processing Record 38 of Set 6 | Balugaon\n",
      "Processing Record 39 of Set 6 | Muros\n",
      "Processing Record 40 of Set 6 | Shushtar\n",
      "Processing Record 41 of Set 6 | Mapiripan\n",
      "Processing Record 42 of Set 6 | General Pico\n"
     ]
    },
    {
     "data": {
      "text/markdown": [
       "**City not found.  Skipping...**"
      ],
      "text/plain": [
       "<IPython.core.display.Markdown object>"
      ]
     },
     "metadata": {},
     "output_type": "display_data"
    },
    {
     "name": "stdout",
     "output_type": "stream",
     "text": [
      "Processing Record 43 of Set 6 | La Palma\n",
      "Processing Record 44 of Set 6 | Yar-Sale\n",
      "Processing Record 45 of Set 6 | Miri\n",
      "Processing Record 46 of Set 6 | San Quintin\n",
      "Processing Record 47 of Set 6 | Yumen\n",
      "Processing Record 48 of Set 6 | Plettenberg Bay\n",
      "Processing Record 49 of Set 6 | Tezu\n",
      "Processing Record 50 of Set 6 | Saint-Esteve\n",
      "Processing Record 1 of Set 7 | Kjollefjord\n",
      "Processing Record 2 of Set 7 | Sangar\n",
      "Processing Record 3 of Set 7 | Pisco\n",
      "Processing Record 4 of Set 7 | Hakui\n"
     ]
    },
    {
     "data": {
      "text/markdown": [
       "**City not found.  Skipping...**"
      ],
      "text/plain": [
       "<IPython.core.display.Markdown object>"
      ]
     },
     "metadata": {},
     "output_type": "display_data"
    },
    {
     "name": "stdout",
     "output_type": "stream",
     "text": [
      "Processing Record 5 of Set 7 | Coquimbo\n"
     ]
    },
    {
     "data": {
      "text/markdown": [
       "**City not found.  Skipping...**"
      ],
      "text/plain": [
       "<IPython.core.display.Markdown object>"
      ]
     },
     "metadata": {},
     "output_type": "display_data"
    },
    {
     "data": {
      "text/markdown": [
       "**City not found.  Skipping...**"
      ],
      "text/plain": [
       "<IPython.core.display.Markdown object>"
      ]
     },
     "metadata": {},
     "output_type": "display_data"
    },
    {
     "name": "stdout",
     "output_type": "stream",
     "text": [
      "Processing Record 6 of Set 7 | Ruteng\n",
      "Processing Record 7 of Set 7 | Ambon\n",
      "Processing Record 8 of Set 7 | Glens Falls\n",
      "Processing Record 9 of Set 7 | Podgorica\n"
     ]
    },
    {
     "data": {
      "text/markdown": [
       "**City not found.  Skipping...**"
      ],
      "text/plain": [
       "<IPython.core.display.Markdown object>"
      ]
     },
     "metadata": {},
     "output_type": "display_data"
    },
    {
     "name": "stdout",
     "output_type": "stream",
     "text": [
      "Processing Record 10 of Set 7 | Tautira\n",
      "Processing Record 11 of Set 7 | Xai-Xai\n",
      "Processing Record 12 of Set 7 | Sitka\n",
      "Processing Record 13 of Set 7 | Zarubino\n",
      "Processing Record 14 of Set 7 | Tateyama\n",
      "Processing Record 15 of Set 7 | Coahuayana\n"
     ]
    },
    {
     "data": {
      "text/markdown": [
       "**City not found.  Skipping...**"
      ],
      "text/plain": [
       "<IPython.core.display.Markdown object>"
      ]
     },
     "metadata": {},
     "output_type": "display_data"
    },
    {
     "name": "stdout",
     "output_type": "stream",
     "text": [
      "Processing Record 16 of Set 7 | Chapais\n",
      "Processing Record 17 of Set 7 | Howard Springs\n",
      "Processing Record 18 of Set 7 | Bandarbeyla\n",
      "Processing Record 19 of Set 7 | Kushiro\n",
      "Processing Record 20 of Set 7 | The Valley\n",
      "Processing Record 21 of Set 7 | Ciudad Bolivar\n",
      "Processing Record 22 of Set 7 | Pangnirtung\n"
     ]
    },
    {
     "data": {
      "text/markdown": [
       "**City not found.  Skipping...**"
      ],
      "text/plain": [
       "<IPython.core.display.Markdown object>"
      ]
     },
     "metadata": {},
     "output_type": "display_data"
    },
    {
     "name": "stdout",
     "output_type": "stream",
     "text": [
      "Processing Record 23 of Set 7 | North Platte\n",
      "Processing Record 24 of Set 7 | Nowogard\n",
      "Processing Record 25 of Set 7 | Ajdabiya\n",
      "Processing Record 26 of Set 7 | Schrems\n",
      "Processing Record 27 of Set 7 | Yadrin\n",
      "Processing Record 28 of Set 7 | Okhotsk\n",
      "Processing Record 29 of Set 7 | Planadas\n",
      "Processing Record 30 of Set 7 | Camacha\n",
      "Processing Record 31 of Set 7 | Avera\n",
      "Processing Record 32 of Set 7 | Dingle\n",
      "Processing Record 33 of Set 7 | Balabac\n",
      "Processing Record 34 of Set 7 | Nongpoh\n",
      "Processing Record 35 of Set 7 | Novyy Urengoy\n",
      "Processing Record 36 of Set 7 | Lobez\n",
      "Processing Record 37 of Set 7 | Herat\n",
      "Processing Record 38 of Set 7 | Rostovka\n",
      "Processing Record 39 of Set 7 | Rio Grande\n",
      "Processing Record 40 of Set 7 | Nyurba\n",
      "Processing Record 41 of Set 7 | Ballina\n",
      "Processing Record 42 of Set 7 | Adwa\n",
      "Processing Record 43 of Set 7 | Nanortalik\n",
      "Processing Record 44 of Set 7 | Zhaotong\n",
      "Processing Record 45 of Set 7 | Nortelandia\n",
      "Processing Record 46 of Set 7 | Altamont\n",
      "Processing Record 47 of Set 7 | Aklavik\n",
      "Processing Record 48 of Set 7 | Xiaoweizhai\n",
      "Processing Record 49 of Set 7 | Bykov\n",
      "Processing Record 50 of Set 7 | Tolu\n",
      "Processing Record 1 of Set 8 | Beaverlodge\n",
      "Processing Record 2 of Set 8 | Ostrovnoy\n",
      "Processing Record 3 of Set 8 | Saint Anthony\n",
      "Processing Record 4 of Set 8 | Kanina\n",
      "Processing Record 5 of Set 8 | Sri Aman\n",
      "Processing Record 6 of Set 8 | Marsa Matruh\n",
      "Processing Record 7 of Set 8 | Tromso\n",
      "Processing Record 8 of Set 8 | Buala\n",
      "Processing Record 9 of Set 8 | Turukhansk\n",
      "Processing Record 10 of Set 8 | Port Hardy\n",
      "Processing Record 11 of Set 8 | Morondava\n",
      "Processing Record 12 of Set 8 | Payo\n",
      "Processing Record 13 of Set 8 | Brae\n",
      "Processing Record 14 of Set 8 | Caravelas\n",
      "Processing Record 15 of Set 8 | Sao Raimundo das Mangabeiras\n",
      "Processing Record 16 of Set 8 | Boffa\n",
      "Processing Record 17 of Set 8 | Skjervoy\n",
      "Processing Record 18 of Set 8 | Agadir\n",
      "Processing Record 19 of Set 8 | Pudozh\n",
      "Processing Record 20 of Set 8 | Saltillo\n",
      "Processing Record 21 of Set 8 | Valparaiso\n",
      "Processing Record 22 of Set 8 | Maningrida\n",
      "Processing Record 23 of Set 8 | Sivaki\n",
      "Processing Record 24 of Set 8 | Pinheiro Machado\n",
      "Processing Record 25 of Set 8 | Gorontalo\n",
      "Processing Record 26 of Set 8 | Kokkola\n"
     ]
    },
    {
     "data": {
      "text/markdown": [
       "**City not found.  Skipping...**"
      ],
      "text/plain": [
       "<IPython.core.display.Markdown object>"
      ]
     },
     "metadata": {},
     "output_type": "display_data"
    },
    {
     "name": "stdout",
     "output_type": "stream",
     "text": [
      "Processing Record 27 of Set 8 | Chuy\n",
      "Processing Record 28 of Set 8 | Kidal\n",
      "Processing Record 29 of Set 8 | Taloqan\n"
     ]
    },
    {
     "data": {
      "text/markdown": [
       "**City not found.  Skipping...**"
      ],
      "text/plain": [
       "<IPython.core.display.Markdown object>"
      ]
     },
     "metadata": {},
     "output_type": "display_data"
    },
    {
     "name": "stdout",
     "output_type": "stream",
     "text": [
      "Processing Record 30 of Set 8 | Tecoanapa\n",
      "Processing Record 31 of Set 8 | Mount Gambier\n",
      "Processing Record 32 of Set 8 | Verkhoyansk\n",
      "Processing Record 33 of Set 8 | Los Llanos de Aridane\n",
      "Processing Record 34 of Set 8 | Partizanskoye\n",
      "Processing Record 35 of Set 8 | Clyde River\n",
      "Processing Record 36 of Set 8 | Tikamgarh\n",
      "Processing Record 37 of Set 8 | Shanghai\n",
      "Processing Record 38 of Set 8 | Lensk\n",
      "Processing Record 39 of Set 8 | Kruisfontein\n",
      "Processing Record 40 of Set 8 | Saint-Georges\n"
     ]
    },
    {
     "data": {
      "text/markdown": [
       "**City not found.  Skipping...**"
      ],
      "text/plain": [
       "<IPython.core.display.Markdown object>"
      ]
     },
     "metadata": {},
     "output_type": "display_data"
    },
    {
     "name": "stdout",
     "output_type": "stream",
     "text": [
      "Processing Record 41 of Set 8 | Kamaishi\n",
      "Processing Record 42 of Set 8 | Gribanovskiy\n",
      "Processing Record 43 of Set 8 | Coroata\n",
      "Processing Record 44 of Set 8 | Uvinza\n",
      "Processing Record 45 of Set 8 | High Prairie\n",
      "Processing Record 46 of Set 8 | Fuglebjerg\n",
      "Processing Record 47 of Set 8 | Gari\n",
      "Processing Record 48 of Set 8 | Guarapari\n",
      "Processing Record 49 of Set 8 | Kalmar\n",
      "Processing Record 50 of Set 8 | Vao\n"
     ]
    },
    {
     "data": {
      "text/markdown": [
       "**City not found.  Skipping...**"
      ],
      "text/plain": [
       "<IPython.core.display.Markdown object>"
      ]
     },
     "metadata": {},
     "output_type": "display_data"
    },
    {
     "name": "stdout",
     "output_type": "stream",
     "text": [
      "Processing Record 1 of Set 9 | Birao\n",
      "Processing Record 2 of Set 9 | Peniche\n",
      "Processing Record 3 of Set 9 | Morehead\n",
      "Processing Record 4 of Set 9 | Nanakuli\n",
      "Processing Record 5 of Set 9 | Locri\n",
      "Processing Record 6 of Set 9 | Alice Springs\n",
      "Processing Record 7 of Set 9 | Mitsamiouli\n",
      "Processing Record 8 of Set 9 | Mayo\n",
      "Processing Record 9 of Set 9 | Tsaratanana\n",
      "Processing Record 10 of Set 9 | Nola\n",
      "Processing Record 11 of Set 9 | Micheweni\n"
     ]
    },
    {
     "data": {
      "text/markdown": [
       "**City not found.  Skipping...**"
      ],
      "text/plain": [
       "<IPython.core.display.Markdown object>"
      ]
     },
     "metadata": {},
     "output_type": "display_data"
    },
    {
     "name": "stdout",
     "output_type": "stream",
     "text": [
      "Processing Record 12 of Set 9 | Tongchuan\n",
      "Processing Record 13 of Set 9 | Mocuba\n"
     ]
    },
    {
     "data": {
      "text/markdown": [
       "**City not found.  Skipping...**"
      ],
      "text/plain": [
       "<IPython.core.display.Markdown object>"
      ]
     },
     "metadata": {},
     "output_type": "display_data"
    },
    {
     "name": "stdout",
     "output_type": "stream",
     "text": [
      "Processing Record 14 of Set 9 | Shakawe\n",
      "Processing Record 15 of Set 9 | Gornopravdinsk\n",
      "Processing Record 16 of Set 9 | Fairbanks\n"
     ]
    },
    {
     "data": {
      "text/markdown": [
       "**City not found.  Skipping...**"
      ],
      "text/plain": [
       "<IPython.core.display.Markdown object>"
      ]
     },
     "metadata": {},
     "output_type": "display_data"
    },
    {
     "name": "stdout",
     "output_type": "stream",
     "text": [
      "Processing Record 17 of Set 9 | Roald\n",
      "Processing Record 18 of Set 9 | Windhoek\n",
      "Processing Record 19 of Set 9 | Nuuk\n",
      "Processing Record 20 of Set 9 | Lapa\n"
     ]
    },
    {
     "data": {
      "text/markdown": [
       "**City not found.  Skipping...**"
      ],
      "text/plain": [
       "<IPython.core.display.Markdown object>"
      ]
     },
     "metadata": {},
     "output_type": "display_data"
    },
    {
     "name": "stdout",
     "output_type": "stream",
     "text": [
      "Processing Record 21 of Set 9 | Juneau\n",
      "Processing Record 22 of Set 9 | Winnemucca\n"
     ]
    },
    {
     "data": {
      "text/markdown": [
       "**City not found.  Skipping...**"
      ],
      "text/plain": [
       "<IPython.core.display.Markdown object>"
      ]
     },
     "metadata": {},
     "output_type": "display_data"
    },
    {
     "name": "stdout",
     "output_type": "stream",
     "text": [
      "Processing Record 23 of Set 9 | Nizwa\n",
      "Processing Record 24 of Set 9 | Vila Franca do Campo\n",
      "Processing Record 25 of Set 9 | Male\n"
     ]
    },
    {
     "data": {
      "text/markdown": [
       "**City not found.  Skipping...**"
      ],
      "text/plain": [
       "<IPython.core.display.Markdown object>"
      ]
     },
     "metadata": {},
     "output_type": "display_data"
    },
    {
     "data": {
      "text/markdown": [
       "**City not found.  Skipping...**"
      ],
      "text/plain": [
       "<IPython.core.display.Markdown object>"
      ]
     },
     "metadata": {},
     "output_type": "display_data"
    },
    {
     "name": "stdout",
     "output_type": "stream",
     "text": [
      "Processing Record 26 of Set 9 | Shitanjing\n",
      "Processing Record 27 of Set 9 | Thunder Bay\n",
      "Processing Record 28 of Set 9 | Cristobal Obregon\n",
      "Processing Record 29 of Set 9 | Buraydah\n",
      "Processing Record 30 of Set 9 | Rodrigues Alves\n",
      "Processing Record 31 of Set 9 | Mount Isa\n",
      "Processing Record 32 of Set 9 | Port Keats\n",
      "Processing Record 33 of Set 9 | Penzance\n",
      "Processing Record 34 of Set 9 | Egvekinot\n",
      "Processing Record 35 of Set 9 | Paita\n",
      "Processing Record 36 of Set 9 | Tabou\n",
      "Processing Record 37 of Set 9 | Pandan\n"
     ]
    },
    {
     "data": {
      "text/markdown": [
       "**City not found.  Skipping...**"
      ],
      "text/plain": [
       "<IPython.core.display.Markdown object>"
      ]
     },
     "metadata": {},
     "output_type": "display_data"
    },
    {
     "name": "stdout",
     "output_type": "stream",
     "text": [
      "Processing Record 38 of Set 9 | Saeby\n",
      "Processing Record 39 of Set 9 | Altagracia de Orituco\n",
      "Processing Record 40 of Set 9 | Pervomayskoye\n",
      "Processing Record 41 of Set 9 | Fianarantsoa\n",
      "Processing Record 42 of Set 9 | Inirida\n",
      "Processing Record 43 of Set 9 | Verkhnevilyuysk\n",
      "Processing Record 44 of Set 9 | Richards Bay\n"
     ]
    },
    {
     "data": {
      "text/markdown": [
       "**City not found.  Skipping...**"
      ],
      "text/plain": [
       "<IPython.core.display.Markdown object>"
      ]
     },
     "metadata": {},
     "output_type": "display_data"
    },
    {
     "name": "stdout",
     "output_type": "stream",
     "text": [
      "Processing Record 45 of Set 9 | Mahibadhoo\n"
     ]
    },
    {
     "data": {
      "text/markdown": [
       "**City not found.  Skipping...**"
      ],
      "text/plain": [
       "<IPython.core.display.Markdown object>"
      ]
     },
     "metadata": {},
     "output_type": "display_data"
    },
    {
     "name": "stdout",
     "output_type": "stream",
     "text": [
      "Processing Record 46 of Set 9 | Xining\n",
      "Processing Record 47 of Set 9 | Chauk\n",
      "Processing Record 48 of Set 9 | Presidente Franco\n",
      "Processing Record 49 of Set 9 | Raisen\n"
     ]
    },
    {
     "data": {
      "text/markdown": [
       "**City not found.  Skipping...**"
      ],
      "text/plain": [
       "<IPython.core.display.Markdown object>"
      ]
     },
     "metadata": {},
     "output_type": "display_data"
    },
    {
     "data": {
      "text/markdown": [
       "**City not found.  Skipping...**"
      ],
      "text/plain": [
       "<IPython.core.display.Markdown object>"
      ]
     },
     "metadata": {},
     "output_type": "display_data"
    },
    {
     "data": {
      "text/markdown": [
       "**City not found.  Skipping...**"
      ],
      "text/plain": [
       "<IPython.core.display.Markdown object>"
      ]
     },
     "metadata": {},
     "output_type": "display_data"
    },
    {
     "name": "stdout",
     "output_type": "stream",
     "text": [
      "Processing Record 50 of Set 9 | Kontagora\n",
      "Processing Record 1 of Set 10 | Killybegs\n",
      "Processing Record 2 of Set 10 | Nenjiang\n",
      "Processing Record 3 of Set 10 | Zhuhai\n",
      "Processing Record 4 of Set 10 | Antalaha\n",
      "Processing Record 5 of Set 10 | Jardim\n",
      "Processing Record 6 of Set 10 | Szamotuly\n",
      "Processing Record 7 of Set 10 | Ayagoz\n",
      "Processing Record 8 of Set 10 | Rome\n",
      "Processing Record 9 of Set 10 | Scottsbluff\n",
      "Processing Record 10 of Set 10 | Ukiah\n"
     ]
    },
    {
     "data": {
      "text/markdown": [
       "**City not found.  Skipping...**"
      ],
      "text/plain": [
       "<IPython.core.display.Markdown object>"
      ]
     },
     "metadata": {},
     "output_type": "display_data"
    },
    {
     "name": "stdout",
     "output_type": "stream",
     "text": [
      "Processing Record 11 of Set 10 | Nara\n",
      "Processing Record 12 of Set 10 | Vardo\n",
      "Processing Record 13 of Set 10 | Valley City\n",
      "Processing Record 14 of Set 10 | Labuhan\n",
      "Processing Record 15 of Set 10 | Baghdad\n",
      "Processing Record 16 of Set 10 | Sungai Besar\n",
      "Processing Record 17 of Set 10 | Riverton\n",
      "Processing Record 18 of Set 10 | Haines Junction\n",
      "Processing Record 19 of Set 10 | Rylsk\n",
      "Processing Record 20 of Set 10 | Nezhinka\n",
      "Processing Record 21 of Set 10 | Chipinge\n",
      "Processing Record 22 of Set 10 | Aborlan\n",
      "Processing Record 23 of Set 10 | Marzuq\n",
      "Processing Record 24 of Set 10 | Susanville\n",
      "Processing Record 25 of Set 10 | Jijiga\n",
      "Processing Record 26 of Set 10 | Ibra\n",
      "Processing Record 27 of Set 10 | Dali\n",
      "Processing Record 28 of Set 10 | Chulym\n",
      "Processing Record 29 of Set 10 | Tabas\n",
      "Processing Record 30 of Set 10 | Vangaindrano\n",
      "Processing Record 31 of Set 10 | Chingirlau\n",
      "Processing Record 32 of Set 10 | San Patricio\n",
      "Processing Record 33 of Set 10 | Middle Island\n",
      "Processing Record 34 of Set 10 | Mpongwe\n",
      "Processing Record 35 of Set 10 | Dzhebariki-Khaya\n",
      "Processing Record 36 of Set 10 | Barra do Corda\n",
      "Processing Record 37 of Set 10 | Lazarev\n",
      "Processing Record 38 of Set 10 | Kundiawa\n",
      "Processing Record 39 of Set 10 | Itupiranga\n",
      "Processing Record 40 of Set 10 | Bell Ville\n",
      "Processing Record 41 of Set 10 | Oranjestad\n",
      "Processing Record 42 of Set 10 | Olovyannaya\n",
      "Processing Record 43 of Set 10 | Los Alamos\n"
     ]
    },
    {
     "data": {
      "text/markdown": [
       "**City not found.  Skipping...**"
      ],
      "text/plain": [
       "<IPython.core.display.Markdown object>"
      ]
     },
     "metadata": {},
     "output_type": "display_data"
    },
    {
     "name": "stdout",
     "output_type": "stream",
     "text": [
      "Processing Record 44 of Set 10 | Kachug\n"
     ]
    },
    {
     "data": {
      "text/markdown": [
       "**City not found.  Skipping...**"
      ],
      "text/plain": [
       "<IPython.core.display.Markdown object>"
      ]
     },
     "metadata": {},
     "output_type": "display_data"
    },
    {
     "name": "stdout",
     "output_type": "stream",
     "text": [
      "Processing Record 45 of Set 10 | Namatanai\n",
      "Processing Record 46 of Set 10 | Santa Rosa\n"
     ]
    },
    {
     "data": {
      "text/markdown": [
       "**City not found.  Skipping...**"
      ],
      "text/plain": [
       "<IPython.core.display.Markdown object>"
      ]
     },
     "metadata": {},
     "output_type": "display_data"
    },
    {
     "name": "stdout",
     "output_type": "stream",
     "text": [
      "Processing Record 47 of Set 10 | Vagay\n",
      "Processing Record 48 of Set 10 | Sistranda\n",
      "Processing Record 49 of Set 10 | Ust-Kulom\n",
      "Processing Record 50 of Set 10 | Zaraza\n",
      "Processing Record 1 of Set 11 | Oneonta\n",
      "Processing Record 2 of Set 11 | Kaz\n",
      "Processing Record 3 of Set 11 | Auki\n"
     ]
    },
    {
     "data": {
      "text/markdown": [
       "**City not found.  Skipping...**"
      ],
      "text/plain": [
       "<IPython.core.display.Markdown object>"
      ]
     },
     "metadata": {},
     "output_type": "display_data"
    },
    {
     "name": "stdout",
     "output_type": "stream",
     "text": [
      "Processing Record 4 of Set 11 | imeni Tsyurupy\n",
      "Processing Record 5 of Set 11 | Aykhal\n",
      "Processing Record 6 of Set 11 | La Ronge\n",
      "Processing Record 7 of Set 11 | Fort Nelson\n",
      "Processing Record 8 of Set 11 | Ternate\n",
      "Processing Record 9 of Set 11 | Darhan\n",
      "Processing Record 10 of Set 11 | Sao Sebastiao\n",
      "Processing Record 11 of Set 11 | Iquique\n",
      "Processing Record 12 of Set 11 | Sibenik\n",
      "Processing Record 13 of Set 11 | Ouadda\n",
      "Processing Record 14 of Set 11 | Savannakhet\n",
      "Processing Record 15 of Set 11 | Port Lincoln\n",
      "Processing Record 16 of Set 11 | Sept-Iles\n",
      "Processing Record 17 of Set 11 | Okha\n",
      "Processing Record 18 of Set 11 | Marsabit\n",
      "Processing Record 19 of Set 11 | Zabid\n",
      "Processing Record 20 of Set 11 | Dawlatabad\n",
      "Processing Record 21 of Set 11 | Erenhot\n",
      "Processing Record 22 of Set 11 | Vanimo\n",
      "Processing Record 23 of Set 11 | Saint-Francois\n",
      "Processing Record 24 of Set 11 | Samfya\n",
      "Processing Record 25 of Set 11 | Manokwari\n",
      "Processing Record 26 of Set 11 | Muli\n",
      "Processing Record 27 of Set 11 | Taoudenni\n",
      "Processing Record 28 of Set 11 | Grand Baie\n",
      "Processing Record 29 of Set 11 | Botwood\n",
      "Processing Record 30 of Set 11 | Mikhaylovka\n",
      "Processing Record 31 of Set 11 | San Vicente de Canete\n",
      "Processing Record 32 of Set 11 | Marabba\n"
     ]
    },
    {
     "data": {
      "text/markdown": [
       "**City not found.  Skipping...**"
      ],
      "text/plain": [
       "<IPython.core.display.Markdown object>"
      ]
     },
     "metadata": {},
     "output_type": "display_data"
    },
    {
     "name": "stdout",
     "output_type": "stream",
     "text": [
      "Processing Record 33 of Set 11 | Soligalich\n",
      "Processing Record 34 of Set 11 | Havre-Saint-Pierre\n",
      "Processing Record 35 of Set 11 | Naron\n",
      "Processing Record 36 of Set 11 | Xunchang\n",
      "Processing Record 37 of Set 11 | Alugan\n",
      "Processing Record 38 of Set 11 | Urubicha\n",
      "Processing Record 39 of Set 11 | Pangkalanbuun\n",
      "Processing Record 40 of Set 11 | Kouango\n",
      "Processing Record 41 of Set 11 | Delano\n",
      "\n",
      "-----------------------------\n",
      "\n",
      "Data Retrieval Complete\n",
      "\n",
      "-----------------------------\n",
      "\n"
     ]
    }
   ],
   "source": [
    "# Establish base URL\n",
    "base_url = \"http://api.openweathermap.org/data/2.5/weather?\"\n",
    "\n",
    "# Set counters for use later\n",
    "set_count = 1\n",
    "counter = 1\n",
    "\n",
    "\n",
    "#Print header for Data Retrieval\n",
    "print( \"Beginning Data Retrieval\\n\")  \n",
    "print(\"-----------------------------\\n\")\n",
    "\n",
    "# Set up empty list to be loaded\n",
    "city_name_list = []\n",
    "city_id_list = []\n",
    "city_cloudiness_list = []\n",
    "city_country_list = []\n",
    "city_date_list = []\n",
    "city_humidity_list = []\n",
    "city_lat_list = []\n",
    "city_lng_list = []\n",
    "city_max_temp_list = []\n",
    "city_wind_speed_list = []\n",
    "\n",
    "\n",
    "# For loop to go through our cities list and find the weather info for the city\n",
    "for city in cities:\n",
    "        \n",
    "        # Try/ Except for error handling\n",
    "        try:\n",
    "            \n",
    "            # Get weather data and turn into json format\n",
    "            query_url = f\"{base_url}appid={api_key}&q={city}&units=imperial\"\n",
    "            city_weather = requests.get(query_url).json()\n",
    "            \n",
    "            # This was a pretty print I used to get the right indexes for the assignments below\n",
    "            # print(json.dumps(city_weather, indent=4, sort_keys=True))\n",
    "            \n",
    "            \n",
    "            # Get required the weather info for the current city\n",
    "            city_name = city_weather[\"name\"]\n",
    "            city_id = city_weather[\"id\"]\n",
    "            city_cloudiness = city_weather[\"clouds\"][\"all\"]\n",
    "            city_country = city_weather[\"sys\"][\"country\"]\n",
    "            city_date = city_weather[\"dt\"]\n",
    "            city_humidity = city_weather[\"main\"][\"humidity\"]\n",
    "            city_lat = city_weather[\"coord\"][\"lat\"]\n",
    "            city_lng = city_weather[\"coord\"][\"lon\"]\n",
    "            city_max_temp = city_weather[\"main\"][\"temp_max\"]\n",
    "            city_wind_speed = city_weather[\"wind\"][\"speed\"]\n",
    "            \n",
    "            \n",
    "            # Load the information into lists so we can make a DF later\n",
    "            city_name_list.append(city_name)\n",
    "            city_id_list.append(city_id)\n",
    "            city_cloudiness_list.append(city_cloudiness)\n",
    "            city_country_list.append(city_country)\n",
    "            city_date_list.append(city_date)\n",
    "            city_humidity_list.append(city_humidity)\n",
    "            city_lat_list.append(city_lat)\n",
    "            city_lng_list.append(city_lng)\n",
    "            city_max_temp_list.append(city_max_temp)\n",
    "            city_wind_speed_list.append(city_wind_speed)\n",
    "           \n",
    "            \n",
    "            # Print the city and set if the city is found\n",
    "            print(f\"Processing Record {counter} of Set {set_count} | {city_name}\")\n",
    "            \n",
    "            # Line I was using for error checking\n",
    "            # print(city_name, city_id, city_cloudiness, city_country, city_date, city_humidity, city_lat, city_lng, city_max_temp, city_wind_speed)\n",
    "            \n",
    "            \n",
    "            # Keep count of cities in set\n",
    "            counter += 1\n",
    "            \n",
    "            \n",
    "            # Limiter I was using during tesing\n",
    "            #if set_count == 3:\n",
    "                #break\n",
    "                \n",
    "            # Increase the set_count by 1 every time we retrive a group of 50 cities and reset counter   \n",
    "            if counter % 51 == 0:\n",
    "                set_count += 1\n",
    "                counter = 1\n",
    "                \n",
    "        # Except block handle KeyErrors        \n",
    "        except KeyError:\n",
    "            \n",
    "            # Format the exception output so it prnts in bold and is easier to see \n",
    "            # when we coudn't find a city\n",
    "            bold = lambda word : display(Markdown(word))\n",
    "            bold(\"**City not found.  Skipping...**\")\n",
    "\n",
    "\n",
    "            \n",
    "# Footer for retrieval log\n",
    "print(\"\\n-----------------------------\\n\")             \n",
    "print( \"Data Retrieval Complete\\n\")  \n",
    "print(\"-----------------------------\\n\")            \n",
    "\n",
    "\n",
    "\n",
    "# Notes I kept for different ways to approch this.  Obvioulsy I chose to just use appended lists...     \n",
    "# Put each city into a dict\n",
    "# Build seperate lists for each weather feature as we itterate through the for loop"
   ]
  },
  {
   "cell_type": "code",
   "execution_count": 34,
   "metadata": {},
   "outputs": [
    {
     "data": {
      "text/plain": [
       "City Name              541\n",
       "City ID                541\n",
       "Cloudiness             541\n",
       "Country                541\n",
       "Date                   541\n",
       "Humidity               541\n",
       "Latitude               541\n",
       "Longitude              541\n",
       "Max Temperature (F)    541\n",
       "Wind Speed             541\n",
       "dtype: int64"
      ]
     },
     "execution_count": 34,
     "metadata": {},
     "output_type": "execute_result"
    }
   ],
   "source": [
    "# Build my City Weather DF from the loaded lists\n",
    "city_weather_df = pd.DataFrame({\"City Name\" : city_name_list,\n",
    "                                \"City ID\" : city_id_list,\n",
    "                                \"Cloudiness\" : city_cloudiness_list,\n",
    "                                \"Country\" : city_country_list,\n",
    "                                \"Date\" : city_date_list,\n",
    "                                \"Humidity\" : city_humidity_list,\n",
    "                                \"Latitude\" : city_lat_list,\n",
    "                                \"Longitude\" : city_lng_list,\n",
    "                                \"Max Temperature (F)\" : city_max_temp_list,\n",
    "                                \"Wind Speed\" : city_wind_speed_list\n",
    "                                })\n",
    "\n",
    "\n",
    "# Check the final city count\n",
    "city_weather_df.count()"
   ]
  },
  {
   "cell_type": "code",
   "execution_count": 35,
   "metadata": {},
   "outputs": [
    {
     "data": {
      "text/html": [
       "<div>\n",
       "<style scoped>\n",
       "    .dataframe tbody tr th:only-of-type {\n",
       "        vertical-align: middle;\n",
       "    }\n",
       "\n",
       "    .dataframe tbody tr th {\n",
       "        vertical-align: top;\n",
       "    }\n",
       "\n",
       "    .dataframe thead th {\n",
       "        text-align: right;\n",
       "    }\n",
       "</style>\n",
       "<table border=\"1\" class=\"dataframe\">\n",
       "  <thead>\n",
       "    <tr style=\"text-align: right;\">\n",
       "      <th></th>\n",
       "      <th>City Name</th>\n",
       "      <th>City ID</th>\n",
       "      <th>Cloudiness</th>\n",
       "      <th>Country</th>\n",
       "      <th>Date</th>\n",
       "      <th>Humidity</th>\n",
       "      <th>Latitude</th>\n",
       "      <th>Longitude</th>\n",
       "      <th>Max Temperature (F)</th>\n",
       "      <th>Wind Speed</th>\n",
       "    </tr>\n",
       "  </thead>\n",
       "  <tbody>\n",
       "    <tr>\n",
       "      <th>0</th>\n",
       "      <td>Butaritari</td>\n",
       "      <td>2110227</td>\n",
       "      <td>100</td>\n",
       "      <td>KI</td>\n",
       "      <td>1558856579</td>\n",
       "      <td>75</td>\n",
       "      <td>3.07</td>\n",
       "      <td>172.79</td>\n",
       "      <td>84.86</td>\n",
       "      <td>12.33</td>\n",
       "    </tr>\n",
       "    <tr>\n",
       "      <th>1</th>\n",
       "      <td>Lagoa Formosa</td>\n",
       "      <td>3459181</td>\n",
       "      <td>0</td>\n",
       "      <td>BR</td>\n",
       "      <td>1558856750</td>\n",
       "      <td>100</td>\n",
       "      <td>-18.77</td>\n",
       "      <td>-46.41</td>\n",
       "      <td>51.01</td>\n",
       "      <td>4.41</td>\n",
       "    </tr>\n",
       "    <tr>\n",
       "      <th>2</th>\n",
       "      <td>Westport</td>\n",
       "      <td>2960970</td>\n",
       "      <td>75</td>\n",
       "      <td>IE</td>\n",
       "      <td>1558856751</td>\n",
       "      <td>81</td>\n",
       "      <td>53.80</td>\n",
       "      <td>-9.52</td>\n",
       "      <td>55.99</td>\n",
       "      <td>19.46</td>\n",
       "    </tr>\n",
       "    <tr>\n",
       "      <th>3</th>\n",
       "      <td>Mataura</td>\n",
       "      <td>6201424</td>\n",
       "      <td>84</td>\n",
       "      <td>NZ</td>\n",
       "      <td>1558856544</td>\n",
       "      <td>94</td>\n",
       "      <td>-46.19</td>\n",
       "      <td>168.86</td>\n",
       "      <td>53.01</td>\n",
       "      <td>5.61</td>\n",
       "    </tr>\n",
       "    <tr>\n",
       "      <th>4</th>\n",
       "      <td>Albany</td>\n",
       "      <td>5106834</td>\n",
       "      <td>75</td>\n",
       "      <td>US</td>\n",
       "      <td>1558856443</td>\n",
       "      <td>100</td>\n",
       "      <td>42.65</td>\n",
       "      <td>-73.75</td>\n",
       "      <td>59.00</td>\n",
       "      <td>3.36</td>\n",
       "    </tr>\n",
       "    <tr>\n",
       "      <th>5</th>\n",
       "      <td>Komsomolskiy</td>\n",
       "      <td>1486910</td>\n",
       "      <td>87</td>\n",
       "      <td>RU</td>\n",
       "      <td>1558856576</td>\n",
       "      <td>87</td>\n",
       "      <td>67.55</td>\n",
       "      <td>63.78</td>\n",
       "      <td>30.86</td>\n",
       "      <td>12.30</td>\n",
       "    </tr>\n",
       "    <tr>\n",
       "      <th>6</th>\n",
       "      <td>Hualmay</td>\n",
       "      <td>3939761</td>\n",
       "      <td>100</td>\n",
       "      <td>PE</td>\n",
       "      <td>1558856751</td>\n",
       "      <td>95</td>\n",
       "      <td>-11.10</td>\n",
       "      <td>-77.61</td>\n",
       "      <td>61.82</td>\n",
       "      <td>17.20</td>\n",
       "    </tr>\n",
       "    <tr>\n",
       "      <th>7</th>\n",
       "      <td>Bluff</td>\n",
       "      <td>2175403</td>\n",
       "      <td>10</td>\n",
       "      <td>AU</td>\n",
       "      <td>1558856558</td>\n",
       "      <td>50</td>\n",
       "      <td>-23.58</td>\n",
       "      <td>149.07</td>\n",
       "      <td>68.66</td>\n",
       "      <td>5.41</td>\n",
       "    </tr>\n",
       "    <tr>\n",
       "      <th>8</th>\n",
       "      <td>Bethel</td>\n",
       "      <td>5880568</td>\n",
       "      <td>90</td>\n",
       "      <td>US</td>\n",
       "      <td>1558856547</td>\n",
       "      <td>87</td>\n",
       "      <td>60.79</td>\n",
       "      <td>-161.76</td>\n",
       "      <td>50.00</td>\n",
       "      <td>8.05</td>\n",
       "    </tr>\n",
       "    <tr>\n",
       "      <th>9</th>\n",
       "      <td>Klaksvik</td>\n",
       "      <td>2618795</td>\n",
       "      <td>62</td>\n",
       "      <td>FO</td>\n",
       "      <td>1558856625</td>\n",
       "      <td>70</td>\n",
       "      <td>62.23</td>\n",
       "      <td>-6.59</td>\n",
       "      <td>42.80</td>\n",
       "      <td>4.70</td>\n",
       "    </tr>\n",
       "    <tr>\n",
       "      <th>10</th>\n",
       "      <td>Tuatapere</td>\n",
       "      <td>2180815</td>\n",
       "      <td>100</td>\n",
       "      <td>NZ</td>\n",
       "      <td>1558856583</td>\n",
       "      <td>94</td>\n",
       "      <td>-46.13</td>\n",
       "      <td>167.69</td>\n",
       "      <td>53.01</td>\n",
       "      <td>13.42</td>\n",
       "    </tr>\n",
       "    <tr>\n",
       "      <th>11</th>\n",
       "      <td>Saldanha</td>\n",
       "      <td>2737599</td>\n",
       "      <td>0</td>\n",
       "      <td>PT</td>\n",
       "      <td>1558856577</td>\n",
       "      <td>58</td>\n",
       "      <td>41.42</td>\n",
       "      <td>-6.55</td>\n",
       "      <td>60.74</td>\n",
       "      <td>2.93</td>\n",
       "    </tr>\n",
       "    <tr>\n",
       "      <th>12</th>\n",
       "      <td>Touros</td>\n",
       "      <td>3386213</td>\n",
       "      <td>75</td>\n",
       "      <td>BR</td>\n",
       "      <td>1558856609</td>\n",
       "      <td>100</td>\n",
       "      <td>-5.20</td>\n",
       "      <td>-35.46</td>\n",
       "      <td>75.20</td>\n",
       "      <td>5.82</td>\n",
       "    </tr>\n",
       "    <tr>\n",
       "      <th>13</th>\n",
       "      <td>Bambous Virieux</td>\n",
       "      <td>1106677</td>\n",
       "      <td>75</td>\n",
       "      <td>MU</td>\n",
       "      <td>1558856596</td>\n",
       "      <td>78</td>\n",
       "      <td>-20.34</td>\n",
       "      <td>57.76</td>\n",
       "      <td>75.20</td>\n",
       "      <td>13.87</td>\n",
       "    </tr>\n",
       "    <tr>\n",
       "      <th>14</th>\n",
       "      <td>Ahipara</td>\n",
       "      <td>2194098</td>\n",
       "      <td>4</td>\n",
       "      <td>NZ</td>\n",
       "      <td>1558856628</td>\n",
       "      <td>100</td>\n",
       "      <td>-35.17</td>\n",
       "      <td>173.16</td>\n",
       "      <td>62.01</td>\n",
       "      <td>11.03</td>\n",
       "    </tr>\n",
       "    <tr>\n",
       "      <th>15</th>\n",
       "      <td>Alyangula</td>\n",
       "      <td>2079582</td>\n",
       "      <td>84</td>\n",
       "      <td>AU</td>\n",
       "      <td>1558856658</td>\n",
       "      <td>61</td>\n",
       "      <td>-13.85</td>\n",
       "      <td>136.42</td>\n",
       "      <td>82.40</td>\n",
       "      <td>8.05</td>\n",
       "    </tr>\n",
       "    <tr>\n",
       "      <th>16</th>\n",
       "      <td>Morant Bay</td>\n",
       "      <td>3489440</td>\n",
       "      <td>20</td>\n",
       "      <td>JM</td>\n",
       "      <td>1558856753</td>\n",
       "      <td>74</td>\n",
       "      <td>17.88</td>\n",
       "      <td>-76.41</td>\n",
       "      <td>80.60</td>\n",
       "      <td>3.36</td>\n",
       "    </tr>\n",
       "    <tr>\n",
       "      <th>17</th>\n",
       "      <td>Atuona</td>\n",
       "      <td>4020109</td>\n",
       "      <td>25</td>\n",
       "      <td>PF</td>\n",
       "      <td>1558856557</td>\n",
       "      <td>75</td>\n",
       "      <td>-9.80</td>\n",
       "      <td>-139.03</td>\n",
       "      <td>81.62</td>\n",
       "      <td>14.27</td>\n",
       "    </tr>\n",
       "    <tr>\n",
       "      <th>18</th>\n",
       "      <td>Atbasar</td>\n",
       "      <td>1526038</td>\n",
       "      <td>0</td>\n",
       "      <td>KZ</td>\n",
       "      <td>1558856753</td>\n",
       "      <td>31</td>\n",
       "      <td>51.81</td>\n",
       "      <td>68.36</td>\n",
       "      <td>55.88</td>\n",
       "      <td>8.97</td>\n",
       "    </tr>\n",
       "    <tr>\n",
       "      <th>19</th>\n",
       "      <td>Kendari</td>\n",
       "      <td>1640344</td>\n",
       "      <td>100</td>\n",
       "      <td>ID</td>\n",
       "      <td>1558856753</td>\n",
       "      <td>95</td>\n",
       "      <td>-3.99</td>\n",
       "      <td>122.52</td>\n",
       "      <td>76.40</td>\n",
       "      <td>2.51</td>\n",
       "    </tr>\n",
       "    <tr>\n",
       "      <th>20</th>\n",
       "      <td>Longyearbyen</td>\n",
       "      <td>2729907</td>\n",
       "      <td>75</td>\n",
       "      <td>NO</td>\n",
       "      <td>1558856619</td>\n",
       "      <td>63</td>\n",
       "      <td>78.22</td>\n",
       "      <td>15.63</td>\n",
       "      <td>28.40</td>\n",
       "      <td>14.99</td>\n",
       "    </tr>\n",
       "    <tr>\n",
       "      <th>21</th>\n",
       "      <td>Kiama</td>\n",
       "      <td>2161515</td>\n",
       "      <td>0</td>\n",
       "      <td>AU</td>\n",
       "      <td>1558856753</td>\n",
       "      <td>36</td>\n",
       "      <td>-34.67</td>\n",
       "      <td>150.86</td>\n",
       "      <td>64.99</td>\n",
       "      <td>12.75</td>\n",
       "    </tr>\n",
       "    <tr>\n",
       "      <th>22</th>\n",
       "      <td>Sao Joao da Barra</td>\n",
       "      <td>3448903</td>\n",
       "      <td>0</td>\n",
       "      <td>BR</td>\n",
       "      <td>1558856606</td>\n",
       "      <td>96</td>\n",
       "      <td>-21.64</td>\n",
       "      <td>-41.05</td>\n",
       "      <td>62.72</td>\n",
       "      <td>5.26</td>\n",
       "    </tr>\n",
       "    <tr>\n",
       "      <th>23</th>\n",
       "      <td>Tommot</td>\n",
       "      <td>2015179</td>\n",
       "      <td>42</td>\n",
       "      <td>RU</td>\n",
       "      <td>1558856754</td>\n",
       "      <td>32</td>\n",
       "      <td>58.97</td>\n",
       "      <td>126.27</td>\n",
       "      <td>53.36</td>\n",
       "      <td>6.26</td>\n",
       "    </tr>\n",
       "    <tr>\n",
       "      <th>24</th>\n",
       "      <td>Solnechnyy</td>\n",
       "      <td>2016307</td>\n",
       "      <td>100</td>\n",
       "      <td>RU</td>\n",
       "      <td>1558856660</td>\n",
       "      <td>59</td>\n",
       "      <td>50.72</td>\n",
       "      <td>136.64</td>\n",
       "      <td>59.30</td>\n",
       "      <td>1.68</td>\n",
       "    </tr>\n",
       "    <tr>\n",
       "      <th>25</th>\n",
       "      <td>Iqaluit</td>\n",
       "      <td>5983720</td>\n",
       "      <td>20</td>\n",
       "      <td>CA</td>\n",
       "      <td>1558856623</td>\n",
       "      <td>92</td>\n",
       "      <td>63.75</td>\n",
       "      <td>-68.52</td>\n",
       "      <td>28.40</td>\n",
       "      <td>1.63</td>\n",
       "    </tr>\n",
       "    <tr>\n",
       "      <th>26</th>\n",
       "      <td>Faanui</td>\n",
       "      <td>4034551</td>\n",
       "      <td>58</td>\n",
       "      <td>PF</td>\n",
       "      <td>1558856553</td>\n",
       "      <td>70</td>\n",
       "      <td>-16.48</td>\n",
       "      <td>-151.75</td>\n",
       "      <td>82.16</td>\n",
       "      <td>5.32</td>\n",
       "    </tr>\n",
       "    <tr>\n",
       "      <th>27</th>\n",
       "      <td>Tiksi</td>\n",
       "      <td>2015306</td>\n",
       "      <td>86</td>\n",
       "      <td>RU</td>\n",
       "      <td>1558856581</td>\n",
       "      <td>88</td>\n",
       "      <td>71.64</td>\n",
       "      <td>128.87</td>\n",
       "      <td>33.02</td>\n",
       "      <td>9.69</td>\n",
       "    </tr>\n",
       "    <tr>\n",
       "      <th>28</th>\n",
       "      <td>Dunkirk</td>\n",
       "      <td>3020686</td>\n",
       "      <td>0</td>\n",
       "      <td>FR</td>\n",
       "      <td>1558856711</td>\n",
       "      <td>72</td>\n",
       "      <td>51.03</td>\n",
       "      <td>2.38</td>\n",
       "      <td>66.00</td>\n",
       "      <td>11.41</td>\n",
       "    </tr>\n",
       "    <tr>\n",
       "      <th>29</th>\n",
       "      <td>Antofagasta</td>\n",
       "      <td>3899539</td>\n",
       "      <td>90</td>\n",
       "      <td>CL</td>\n",
       "      <td>1558856509</td>\n",
       "      <td>63</td>\n",
       "      <td>-23.65</td>\n",
       "      <td>-70.40</td>\n",
       "      <td>60.80</td>\n",
       "      <td>3.36</td>\n",
       "    </tr>\n",
       "    <tr>\n",
       "      <th>...</th>\n",
       "      <td>...</td>\n",
       "      <td>...</td>\n",
       "      <td>...</td>\n",
       "      <td>...</td>\n",
       "      <td>...</td>\n",
       "      <td>...</td>\n",
       "      <td>...</td>\n",
       "      <td>...</td>\n",
       "      <td>...</td>\n",
       "      <td>...</td>\n",
       "    </tr>\n",
       "    <tr>\n",
       "      <th>511</th>\n",
       "      <td>Sibenik</td>\n",
       "      <td>3187694</td>\n",
       "      <td>100</td>\n",
       "      <td>HR</td>\n",
       "      <td>1558856846</td>\n",
       "      <td>58</td>\n",
       "      <td>45.81</td>\n",
       "      <td>17.18</td>\n",
       "      <td>73.70</td>\n",
       "      <td>2.48</td>\n",
       "    </tr>\n",
       "    <tr>\n",
       "      <th>512</th>\n",
       "      <td>Ouadda</td>\n",
       "      <td>236901</td>\n",
       "      <td>92</td>\n",
       "      <td>CF</td>\n",
       "      <td>1558856846</td>\n",
       "      <td>37</td>\n",
       "      <td>8.07</td>\n",
       "      <td>22.40</td>\n",
       "      <td>93.32</td>\n",
       "      <td>6.93</td>\n",
       "    </tr>\n",
       "    <tr>\n",
       "      <th>513</th>\n",
       "      <td>Savannakhet</td>\n",
       "      <td>1653316</td>\n",
       "      <td>75</td>\n",
       "      <td>TH</td>\n",
       "      <td>1558856846</td>\n",
       "      <td>66</td>\n",
       "      <td>16.57</td>\n",
       "      <td>104.76</td>\n",
       "      <td>86.00</td>\n",
       "      <td>4.70</td>\n",
       "    </tr>\n",
       "    <tr>\n",
       "      <th>514</th>\n",
       "      <td>Port Lincoln</td>\n",
       "      <td>2063036</td>\n",
       "      <td>97</td>\n",
       "      <td>AU</td>\n",
       "      <td>1558856660</td>\n",
       "      <td>70</td>\n",
       "      <td>-34.72</td>\n",
       "      <td>135.86</td>\n",
       "      <td>61.46</td>\n",
       "      <td>29.73</td>\n",
       "    </tr>\n",
       "    <tr>\n",
       "      <th>515</th>\n",
       "      <td>Sept-Iles</td>\n",
       "      <td>6144312</td>\n",
       "      <td>75</td>\n",
       "      <td>CA</td>\n",
       "      <td>1558856485</td>\n",
       "      <td>61</td>\n",
       "      <td>50.20</td>\n",
       "      <td>-66.38</td>\n",
       "      <td>48.99</td>\n",
       "      <td>12.75</td>\n",
       "    </tr>\n",
       "    <tr>\n",
       "      <th>516</th>\n",
       "      <td>Okha</td>\n",
       "      <td>2122614</td>\n",
       "      <td>27</td>\n",
       "      <td>RU</td>\n",
       "      <td>1558856846</td>\n",
       "      <td>85</td>\n",
       "      <td>53.59</td>\n",
       "      <td>142.95</td>\n",
       "      <td>37.70</td>\n",
       "      <td>4.34</td>\n",
       "    </tr>\n",
       "    <tr>\n",
       "      <th>517</th>\n",
       "      <td>Marsabit</td>\n",
       "      <td>187585</td>\n",
       "      <td>48</td>\n",
       "      <td>KE</td>\n",
       "      <td>1558856847</td>\n",
       "      <td>43</td>\n",
       "      <td>2.34</td>\n",
       "      <td>37.99</td>\n",
       "      <td>88.82</td>\n",
       "      <td>18.50</td>\n",
       "    </tr>\n",
       "    <tr>\n",
       "      <th>518</th>\n",
       "      <td>Zabid</td>\n",
       "      <td>69559</td>\n",
       "      <td>4</td>\n",
       "      <td>YE</td>\n",
       "      <td>1558856847</td>\n",
       "      <td>30</td>\n",
       "      <td>14.20</td>\n",
       "      <td>44.50</td>\n",
       "      <td>81.26</td>\n",
       "      <td>5.68</td>\n",
       "    </tr>\n",
       "    <tr>\n",
       "      <th>519</th>\n",
       "      <td>Dawlatabad</td>\n",
       "      <td>1142226</td>\n",
       "      <td>0</td>\n",
       "      <td>AF</td>\n",
       "      <td>1558856847</td>\n",
       "      <td>15</td>\n",
       "      <td>36.41</td>\n",
       "      <td>64.91</td>\n",
       "      <td>85.94</td>\n",
       "      <td>10.49</td>\n",
       "    </tr>\n",
       "    <tr>\n",
       "      <th>520</th>\n",
       "      <td>Erenhot</td>\n",
       "      <td>2037485</td>\n",
       "      <td>100</td>\n",
       "      <td>CN</td>\n",
       "      <td>1558856847</td>\n",
       "      <td>22</td>\n",
       "      <td>43.65</td>\n",
       "      <td>111.97</td>\n",
       "      <td>64.70</td>\n",
       "      <td>17.90</td>\n",
       "    </tr>\n",
       "    <tr>\n",
       "      <th>521</th>\n",
       "      <td>Vanimo</td>\n",
       "      <td>2084442</td>\n",
       "      <td>100</td>\n",
       "      <td>PG</td>\n",
       "      <td>1558856661</td>\n",
       "      <td>68</td>\n",
       "      <td>-2.67</td>\n",
       "      <td>141.30</td>\n",
       "      <td>84.32</td>\n",
       "      <td>7.40</td>\n",
       "    </tr>\n",
       "    <tr>\n",
       "      <th>522</th>\n",
       "      <td>Saint-Francois</td>\n",
       "      <td>2980080</td>\n",
       "      <td>0</td>\n",
       "      <td>FR</td>\n",
       "      <td>1558856848</td>\n",
       "      <td>77</td>\n",
       "      <td>46.42</td>\n",
       "      <td>3.91</td>\n",
       "      <td>62.01</td>\n",
       "      <td>4.36</td>\n",
       "    </tr>\n",
       "    <tr>\n",
       "      <th>523</th>\n",
       "      <td>Samfya</td>\n",
       "      <td>899274</td>\n",
       "      <td>22</td>\n",
       "      <td>ZM</td>\n",
       "      <td>1558856848</td>\n",
       "      <td>57</td>\n",
       "      <td>-11.37</td>\n",
       "      <td>29.56</td>\n",
       "      <td>72.98</td>\n",
       "      <td>7.02</td>\n",
       "    </tr>\n",
       "    <tr>\n",
       "      <th>524</th>\n",
       "      <td>Manokwari</td>\n",
       "      <td>1636308</td>\n",
       "      <td>45</td>\n",
       "      <td>ID</td>\n",
       "      <td>1558856848</td>\n",
       "      <td>84</td>\n",
       "      <td>-0.87</td>\n",
       "      <td>134.08</td>\n",
       "      <td>76.40</td>\n",
       "      <td>4.38</td>\n",
       "    </tr>\n",
       "    <tr>\n",
       "      <th>525</th>\n",
       "      <td>Muli</td>\n",
       "      <td>1256929</td>\n",
       "      <td>0</td>\n",
       "      <td>IN</td>\n",
       "      <td>1558856848</td>\n",
       "      <td>15</td>\n",
       "      <td>22.62</td>\n",
       "      <td>71.45</td>\n",
       "      <td>105.38</td>\n",
       "      <td>15.19</td>\n",
       "    </tr>\n",
       "    <tr>\n",
       "      <th>526</th>\n",
       "      <td>Taoudenni</td>\n",
       "      <td>2450173</td>\n",
       "      <td>0</td>\n",
       "      <td>ML</td>\n",
       "      <td>1558856616</td>\n",
       "      <td>8</td>\n",
       "      <td>22.68</td>\n",
       "      <td>-3.98</td>\n",
       "      <td>98.18</td>\n",
       "      <td>9.01</td>\n",
       "    </tr>\n",
       "    <tr>\n",
       "      <th>527</th>\n",
       "      <td>Grand Baie</td>\n",
       "      <td>934482</td>\n",
       "      <td>75</td>\n",
       "      <td>MU</td>\n",
       "      <td>1558856848</td>\n",
       "      <td>78</td>\n",
       "      <td>-20.02</td>\n",
       "      <td>57.58</td>\n",
       "      <td>75.20</td>\n",
       "      <td>13.87</td>\n",
       "    </tr>\n",
       "    <tr>\n",
       "      <th>528</th>\n",
       "      <td>Botwood</td>\n",
       "      <td>5906229</td>\n",
       "      <td>40</td>\n",
       "      <td>CA</td>\n",
       "      <td>1558856849</td>\n",
       "      <td>100</td>\n",
       "      <td>49.14</td>\n",
       "      <td>-55.34</td>\n",
       "      <td>37.40</td>\n",
       "      <td>4.70</td>\n",
       "    </tr>\n",
       "    <tr>\n",
       "      <th>529</th>\n",
       "      <td>Mikhaylovka</td>\n",
       "      <td>2015842</td>\n",
       "      <td>7</td>\n",
       "      <td>RU</td>\n",
       "      <td>1558856849</td>\n",
       "      <td>22</td>\n",
       "      <td>52.96</td>\n",
       "      <td>103.29</td>\n",
       "      <td>71.00</td>\n",
       "      <td>11.79</td>\n",
       "    </tr>\n",
       "    <tr>\n",
       "      <th>530</th>\n",
       "      <td>San Vicente de Canete</td>\n",
       "      <td>3928993</td>\n",
       "      <td>100</td>\n",
       "      <td>PE</td>\n",
       "      <td>1558856768</td>\n",
       "      <td>87</td>\n",
       "      <td>-13.08</td>\n",
       "      <td>-76.38</td>\n",
       "      <td>62.00</td>\n",
       "      <td>11.48</td>\n",
       "    </tr>\n",
       "    <tr>\n",
       "      <th>531</th>\n",
       "      <td>Marabba</td>\n",
       "      <td>370510</td>\n",
       "      <td>43</td>\n",
       "      <td>SD</td>\n",
       "      <td>1558856849</td>\n",
       "      <td>25</td>\n",
       "      <td>12.35</td>\n",
       "      <td>32.18</td>\n",
       "      <td>99.26</td>\n",
       "      <td>9.22</td>\n",
       "    </tr>\n",
       "    <tr>\n",
       "      <th>532</th>\n",
       "      <td>Soligalich</td>\n",
       "      <td>491025</td>\n",
       "      <td>67</td>\n",
       "      <td>RU</td>\n",
       "      <td>1558856849</td>\n",
       "      <td>60</td>\n",
       "      <td>59.08</td>\n",
       "      <td>42.29</td>\n",
       "      <td>65.60</td>\n",
       "      <td>9.91</td>\n",
       "    </tr>\n",
       "    <tr>\n",
       "      <th>533</th>\n",
       "      <td>Havre-Saint-Pierre</td>\n",
       "      <td>5972291</td>\n",
       "      <td>20</td>\n",
       "      <td>CA</td>\n",
       "      <td>1558856587</td>\n",
       "      <td>86</td>\n",
       "      <td>50.23</td>\n",
       "      <td>-63.60</td>\n",
       "      <td>41.00</td>\n",
       "      <td>9.17</td>\n",
       "    </tr>\n",
       "    <tr>\n",
       "      <th>534</th>\n",
       "      <td>Naron</td>\n",
       "      <td>3115739</td>\n",
       "      <td>75</td>\n",
       "      <td>ES</td>\n",
       "      <td>1558856850</td>\n",
       "      <td>87</td>\n",
       "      <td>43.52</td>\n",
       "      <td>-8.15</td>\n",
       "      <td>59.00</td>\n",
       "      <td>7.61</td>\n",
       "    </tr>\n",
       "    <tr>\n",
       "      <th>535</th>\n",
       "      <td>Xunchang</td>\n",
       "      <td>1787901</td>\n",
       "      <td>1</td>\n",
       "      <td>CN</td>\n",
       "      <td>1558856850</td>\n",
       "      <td>57</td>\n",
       "      <td>28.45</td>\n",
       "      <td>104.71</td>\n",
       "      <td>85.22</td>\n",
       "      <td>5.68</td>\n",
       "    </tr>\n",
       "    <tr>\n",
       "      <th>536</th>\n",
       "      <td>Alugan</td>\n",
       "      <td>1731248</td>\n",
       "      <td>100</td>\n",
       "      <td>PH</td>\n",
       "      <td>1558856850</td>\n",
       "      <td>88</td>\n",
       "      <td>12.22</td>\n",
       "      <td>125.48</td>\n",
       "      <td>82.16</td>\n",
       "      <td>3.15</td>\n",
       "    </tr>\n",
       "    <tr>\n",
       "      <th>537</th>\n",
       "      <td>Urubicha</td>\n",
       "      <td>3923644</td>\n",
       "      <td>45</td>\n",
       "      <td>BO</td>\n",
       "      <td>1558856850</td>\n",
       "      <td>92</td>\n",
       "      <td>-15.63</td>\n",
       "      <td>-63.08</td>\n",
       "      <td>67.22</td>\n",
       "      <td>2.93</td>\n",
       "    </tr>\n",
       "    <tr>\n",
       "      <th>538</th>\n",
       "      <td>Pangkalanbuun</td>\n",
       "      <td>1632694</td>\n",
       "      <td>100</td>\n",
       "      <td>ID</td>\n",
       "      <td>1558856685</td>\n",
       "      <td>71</td>\n",
       "      <td>-2.68</td>\n",
       "      <td>111.62</td>\n",
       "      <td>84.32</td>\n",
       "      <td>5.14</td>\n",
       "    </tr>\n",
       "    <tr>\n",
       "      <th>539</th>\n",
       "      <td>Kouango</td>\n",
       "      <td>2385535</td>\n",
       "      <td>100</td>\n",
       "      <td>CF</td>\n",
       "      <td>1558856851</td>\n",
       "      <td>48</td>\n",
       "      <td>4.99</td>\n",
       "      <td>19.98</td>\n",
       "      <td>90.62</td>\n",
       "      <td>4.16</td>\n",
       "    </tr>\n",
       "    <tr>\n",
       "      <th>540</th>\n",
       "      <td>Delano</td>\n",
       "      <td>5342485</td>\n",
       "      <td>1</td>\n",
       "      <td>US</td>\n",
       "      <td>1558856851</td>\n",
       "      <td>62</td>\n",
       "      <td>35.77</td>\n",
       "      <td>-119.25</td>\n",
       "      <td>60.01</td>\n",
       "      <td>5.82</td>\n",
       "    </tr>\n",
       "  </tbody>\n",
       "</table>\n",
       "<p>541 rows × 10 columns</p>\n",
       "</div>"
      ],
      "text/plain": [
       "                 City Name  City ID  Cloudiness Country        Date  Humidity  \\\n",
       "0               Butaritari  2110227         100      KI  1558856579        75   \n",
       "1            Lagoa Formosa  3459181           0      BR  1558856750       100   \n",
       "2                 Westport  2960970          75      IE  1558856751        81   \n",
       "3                  Mataura  6201424          84      NZ  1558856544        94   \n",
       "4                   Albany  5106834          75      US  1558856443       100   \n",
       "5             Komsomolskiy  1486910          87      RU  1558856576        87   \n",
       "6                  Hualmay  3939761         100      PE  1558856751        95   \n",
       "7                    Bluff  2175403          10      AU  1558856558        50   \n",
       "8                   Bethel  5880568          90      US  1558856547        87   \n",
       "9                 Klaksvik  2618795          62      FO  1558856625        70   \n",
       "10               Tuatapere  2180815         100      NZ  1558856583        94   \n",
       "11                Saldanha  2737599           0      PT  1558856577        58   \n",
       "12                  Touros  3386213          75      BR  1558856609       100   \n",
       "13         Bambous Virieux  1106677          75      MU  1558856596        78   \n",
       "14                 Ahipara  2194098           4      NZ  1558856628       100   \n",
       "15               Alyangula  2079582          84      AU  1558856658        61   \n",
       "16              Morant Bay  3489440          20      JM  1558856753        74   \n",
       "17                  Atuona  4020109          25      PF  1558856557        75   \n",
       "18                 Atbasar  1526038           0      KZ  1558856753        31   \n",
       "19                 Kendari  1640344         100      ID  1558856753        95   \n",
       "20            Longyearbyen  2729907          75      NO  1558856619        63   \n",
       "21                   Kiama  2161515           0      AU  1558856753        36   \n",
       "22       Sao Joao da Barra  3448903           0      BR  1558856606        96   \n",
       "23                  Tommot  2015179          42      RU  1558856754        32   \n",
       "24              Solnechnyy  2016307         100      RU  1558856660        59   \n",
       "25                 Iqaluit  5983720          20      CA  1558856623        92   \n",
       "26                  Faanui  4034551          58      PF  1558856553        70   \n",
       "27                   Tiksi  2015306          86      RU  1558856581        88   \n",
       "28                 Dunkirk  3020686           0      FR  1558856711        72   \n",
       "29             Antofagasta  3899539          90      CL  1558856509        63   \n",
       "..                     ...      ...         ...     ...         ...       ...   \n",
       "511                Sibenik  3187694         100      HR  1558856846        58   \n",
       "512                 Ouadda   236901          92      CF  1558856846        37   \n",
       "513            Savannakhet  1653316          75      TH  1558856846        66   \n",
       "514           Port Lincoln  2063036          97      AU  1558856660        70   \n",
       "515              Sept-Iles  6144312          75      CA  1558856485        61   \n",
       "516                   Okha  2122614          27      RU  1558856846        85   \n",
       "517               Marsabit   187585          48      KE  1558856847        43   \n",
       "518                  Zabid    69559           4      YE  1558856847        30   \n",
       "519             Dawlatabad  1142226           0      AF  1558856847        15   \n",
       "520                Erenhot  2037485         100      CN  1558856847        22   \n",
       "521                 Vanimo  2084442         100      PG  1558856661        68   \n",
       "522         Saint-Francois  2980080           0      FR  1558856848        77   \n",
       "523                 Samfya   899274          22      ZM  1558856848        57   \n",
       "524              Manokwari  1636308          45      ID  1558856848        84   \n",
       "525                   Muli  1256929           0      IN  1558856848        15   \n",
       "526              Taoudenni  2450173           0      ML  1558856616         8   \n",
       "527             Grand Baie   934482          75      MU  1558856848        78   \n",
       "528                Botwood  5906229          40      CA  1558856849       100   \n",
       "529            Mikhaylovka  2015842           7      RU  1558856849        22   \n",
       "530  San Vicente de Canete  3928993         100      PE  1558856768        87   \n",
       "531                Marabba   370510          43      SD  1558856849        25   \n",
       "532             Soligalich   491025          67      RU  1558856849        60   \n",
       "533     Havre-Saint-Pierre  5972291          20      CA  1558856587        86   \n",
       "534                  Naron  3115739          75      ES  1558856850        87   \n",
       "535               Xunchang  1787901           1      CN  1558856850        57   \n",
       "536                 Alugan  1731248         100      PH  1558856850        88   \n",
       "537               Urubicha  3923644          45      BO  1558856850        92   \n",
       "538          Pangkalanbuun  1632694         100      ID  1558856685        71   \n",
       "539                Kouango  2385535         100      CF  1558856851        48   \n",
       "540                 Delano  5342485           1      US  1558856851        62   \n",
       "\n",
       "     Latitude  Longitude  Max Temperature (F)  Wind Speed  \n",
       "0        3.07     172.79                84.86       12.33  \n",
       "1      -18.77     -46.41                51.01        4.41  \n",
       "2       53.80      -9.52                55.99       19.46  \n",
       "3      -46.19     168.86                53.01        5.61  \n",
       "4       42.65     -73.75                59.00        3.36  \n",
       "5       67.55      63.78                30.86       12.30  \n",
       "6      -11.10     -77.61                61.82       17.20  \n",
       "7      -23.58     149.07                68.66        5.41  \n",
       "8       60.79    -161.76                50.00        8.05  \n",
       "9       62.23      -6.59                42.80        4.70  \n",
       "10     -46.13     167.69                53.01       13.42  \n",
       "11      41.42      -6.55                60.74        2.93  \n",
       "12      -5.20     -35.46                75.20        5.82  \n",
       "13     -20.34      57.76                75.20       13.87  \n",
       "14     -35.17     173.16                62.01       11.03  \n",
       "15     -13.85     136.42                82.40        8.05  \n",
       "16      17.88     -76.41                80.60        3.36  \n",
       "17      -9.80    -139.03                81.62       14.27  \n",
       "18      51.81      68.36                55.88        8.97  \n",
       "19      -3.99     122.52                76.40        2.51  \n",
       "20      78.22      15.63                28.40       14.99  \n",
       "21     -34.67     150.86                64.99       12.75  \n",
       "22     -21.64     -41.05                62.72        5.26  \n",
       "23      58.97     126.27                53.36        6.26  \n",
       "24      50.72     136.64                59.30        1.68  \n",
       "25      63.75     -68.52                28.40        1.63  \n",
       "26     -16.48    -151.75                82.16        5.32  \n",
       "27      71.64     128.87                33.02        9.69  \n",
       "28      51.03       2.38                66.00       11.41  \n",
       "29     -23.65     -70.40                60.80        3.36  \n",
       "..        ...        ...                  ...         ...  \n",
       "511     45.81      17.18                73.70        2.48  \n",
       "512      8.07      22.40                93.32        6.93  \n",
       "513     16.57     104.76                86.00        4.70  \n",
       "514    -34.72     135.86                61.46       29.73  \n",
       "515     50.20     -66.38                48.99       12.75  \n",
       "516     53.59     142.95                37.70        4.34  \n",
       "517      2.34      37.99                88.82       18.50  \n",
       "518     14.20      44.50                81.26        5.68  \n",
       "519     36.41      64.91                85.94       10.49  \n",
       "520     43.65     111.97                64.70       17.90  \n",
       "521     -2.67     141.30                84.32        7.40  \n",
       "522     46.42       3.91                62.01        4.36  \n",
       "523    -11.37      29.56                72.98        7.02  \n",
       "524     -0.87     134.08                76.40        4.38  \n",
       "525     22.62      71.45               105.38       15.19  \n",
       "526     22.68      -3.98                98.18        9.01  \n",
       "527    -20.02      57.58                75.20       13.87  \n",
       "528     49.14     -55.34                37.40        4.70  \n",
       "529     52.96     103.29                71.00       11.79  \n",
       "530    -13.08     -76.38                62.00       11.48  \n",
       "531     12.35      32.18                99.26        9.22  \n",
       "532     59.08      42.29                65.60        9.91  \n",
       "533     50.23     -63.60                41.00        9.17  \n",
       "534     43.52      -8.15                59.00        7.61  \n",
       "535     28.45     104.71                85.22        5.68  \n",
       "536     12.22     125.48                82.16        3.15  \n",
       "537    -15.63     -63.08                67.22        2.93  \n",
       "538     -2.68     111.62                84.32        5.14  \n",
       "539      4.99      19.98                90.62        4.16  \n",
       "540     35.77    -119.25                60.01        5.82  \n",
       "\n",
       "[541 rows x 10 columns]"
      ]
     },
     "execution_count": 35,
     "metadata": {},
     "output_type": "execute_result"
    }
   ],
   "source": [
    "# Save the City Weather DF to a CSV file\n",
    "export_csv = city_weather_df.to_csv(output_data_file, index = None, header=True)\n",
    "\n",
    "# Print a preview of City Weather DF\n",
    "city_weather_df"
   ]
  },
  {
   "cell_type": "code",
   "execution_count": 36,
   "metadata": {},
   "outputs": [
    {
     "data": {
      "image/png": "[encoded data removed]",
      "text/plain": [
       "<Figure size 1080x720 with 1 Axes>"
      ]
     },
     "metadata": {
      "needs_background": "light"
     },
     "output_type": "display_data"
    }
   ],
   "source": [
    "# Create the Latitude vs. Temperature Plot\n",
    "lat_v_temp_chart = city_weather_df.plot(kind=\"scatter\", \n",
    "                                        x=\"Latitude\", \n",
    "                                        y=\"Max Temperature (F)\", \n",
    "                                        s=70,\n",
    "                                        edgecolors=\"black\", \n",
    "                                        linewidth=2,\n",
    "                                        grid=True, \n",
    "                                        figsize=(15,10),        \n",
    "                                        )\n",
    "\n",
    "\n",
    "# Add formatted title and lables\n",
    "plt.xlabel(\"Latitude\", fontsize = 20)\n",
    "plt.ylabel(\"Max Temperature (F)\", fontsize = 20)\n",
    "plt.title(f\"City Latitude vs. Max Temperature ({current_date})\", fontsize = 30, fontweight=\"bold\")\n",
    "\n",
    "# Export picture the Latitude vs. Temperature Plot to a png file\n",
    "plt.savefig(\"output_data/City_Lat_vs_Temp.png\")"
   ]
  },
  {
   "cell_type": "code",
   "execution_count": 37,
   "metadata": {},
   "outputs": [
    {
     "data": {
      "image/png": "[encoded data removed]",
      "text/plain": [
       "<Figure size 1080x720 with 1 Axes>"
      ]
     },
     "metadata": {
      "needs_background": "light"
     },
     "output_type": "display_data"
    }
   ],
   "source": [
    "# Create the Latitude vs. Humidity Plot\n",
    "lat_v_humid_chart = city_weather_df.plot(kind=\"scatter\", \n",
    "                                        x=\"Latitude\", \n",
    "                                        y=\"Humidity\", \n",
    "                                        s=70,\n",
    "                                        edgecolors=\"black\", \n",
    "                                        linewidth=2,\n",
    "                                        grid=True, \n",
    "                                        figsize=(15,10),        \n",
    "                                        )\n",
    "\n",
    "\n",
    "# Add formatted title and lables\n",
    "plt.xlabel(\"Latitude\", fontsize = 20)\n",
    "plt.ylabel(\"Humidity (%)\", fontsize = 20)\n",
    "plt.title(f\"City Latitude vs. Humidity ({current_date})\", fontsize = 30, fontweight=\"bold\")\n",
    "\n",
    "# Export picture the Latitude vs. Humidity Plot to a png file\n",
    "plt.savefig(\"output_data/City_Lat_vs_Humid.png\")"
   ]
  },
  {
   "cell_type": "code",
   "execution_count": 38,
   "metadata": {},
   "outputs": [
    {
     "data": {
      "image/png": "[encoded data removed]",
      "text/plain": [
       "<Figure size 1080x720 with 1 Axes>"
      ]
     },
     "metadata": {
      "needs_background": "light"
     },
     "output_type": "display_data"
    }
   ],
   "source": [
    "#Latitude vs. Cloudiness Plot\n",
    "lat_v_cloud_chart = city_weather_df.plot(kind=\"scatter\", \n",
    "                                        x=\"Latitude\", \n",
    "                                        y=\"Cloudiness\", \n",
    "                                        s=70,\n",
    "                                        edgecolors=\"black\", \n",
    "                                        linewidth=2,\n",
    "                                        grid=True, \n",
    "                                        figsize=(15,10),        \n",
    "                                        )\n",
    "\n",
    "\n",
    "# Add formatted title and lables\n",
    "plt.xlabel(\"Latitude\", fontsize = 20)\n",
    "plt.ylabel(\"Cloudiness (%)\", fontsize = 20)\n",
    "plt.title(f\"City Latitude vs. Cloudiness ({current_date})\", fontsize = 30, fontweight=\"bold\")\n",
    "\n",
    "# Export picture the Latitude vs. Cloudiness Plot to a png file\n",
    "plt.savefig(\"output_data/City_Lat_vs_Cloud.png\")"
   ]
  },
  {
   "cell_type": "code",
   "execution_count": 39,
   "metadata": {},
   "outputs": [
    {
     "data": {
      "image/png": "[encoded data removed]",
      "text/plain": [
       "<Figure size 1080x720 with 1 Axes>"
      ]
     },
     "metadata": {
      "needs_background": "light"
     },
     "output_type": "display_data"
    }
   ],
   "source": [
    "#Latitude vs. Wind Speed Plot\n",
    "lat_v_wind_chart = city_weather_df.plot(kind=\"scatter\", \n",
    "                                        x=\"Latitude\", \n",
    "                                        y=\"Wind Speed\", \n",
    "                                        s=70,\n",
    "                                        edgecolors=\"black\", \n",
    "                                        linewidth=2,\n",
    "                                        grid=True, \n",
    "                                        figsize=(15,10),        \n",
    "                                        )\n",
    "\n",
    "# Add formatted title and lables\n",
    "plt.xlabel(\"Latitude\", fontsize = 20)\n",
    "plt.ylabel(\"Wind Speed (mph)\", fontsize = 20)\n",
    "plt.title(f\"City Latitude vs. Wind Speed ({current_date})\", fontsize = 30, fontweight=\"bold\")\n",
    "\n",
    "# Export picture the Latitude vs. Wind Speed Plot to a png file\n",
    "plt.savefig(\"output_data/City_Lat_vs_Wind.png\")"
   ]
  }
 ],
 "metadata": {
  "anaconda-cloud": {},
  "kernel_info": {
   "name": "python3"
  },
  "kernelspec": {
   "display_name": "Python [conda env:PythonData] *",
   "language": "python",
   "name": "conda-env-PythonData-py"
  },
  "language_info": {
   "codemirror_mode": {
    "name": "ipython",
    "version": 3
   },
   "file_extension": ".py",
   "mimetype": "text/x-python",
   "name": "python",
   "nbconvert_exporter": "python",
   "pygments_lexer": "ipython3",
   "version": "3.6.8"
  },
  "nteract": {
   "version": "0.12.3"
  }
 },
 "nbformat": 4,
 "nbformat_minor": 2
}
